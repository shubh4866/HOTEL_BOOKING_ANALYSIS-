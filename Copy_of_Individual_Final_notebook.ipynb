{
  "nbformat": 4,
  "nbformat_minor": 0,
  "metadata": {
    "kernelspec": {
      "display_name": "Python 3",
      "language": "python",
      "name": "python3"
    },
    "language_info": {
      "codemirror_mode": {
        "name": "ipython",
        "version": 3
      },
      "file_extension": ".py",
      "mimetype": "text/x-python",
      "name": "python",
      "nbconvert_exporter": "python",
      "pygments_lexer": "ipython3",
      "version": "3.6.6"
    },
    "colab": {
      "name": "Copy of Individual Final notebook.ipynb",
      "provenance": [],
      "collapsed_sections": []
    }
  },
  "cells": [
    {
      "cell_type": "markdown",
      "metadata": {
        "id": "Y06xIdG26kRF"
      },
      "source": [
        "## <b> Have you ever wondered when the best time of year to book a hotel room is? Or the optimal length of stay in order to get the best daily rate? What if you wanted to predict whether or not a hotel was likely to receive a disproportionately high number of special requests? This hotel booking dataset can help you explore those questions!\n",
        "\n",
        "## <b>This data set contains booking information for a city hotel and a resort hotel, and includes information such as when the booking was made, length of stay, the number of adults, children, and/or babies, and the number of available parking spaces, among other things. All personally identifying information has been removed from the data. </b>\n",
        "\n",
        "## <b> Explore and analyze the data to discover important factors that govern the bookings. </b>"
      ]
    },
    {
      "cell_type": "code",
      "metadata": {
        "id": "dByMsuzT8Tnw"
      },
      "source": [
        "# importing python packages\n",
        "import pandas as pd\n",
        "import numpy as np\n",
        "import matplotlib.pyplot as plt\n",
        "import seaborn as sns\n",
        "import warnings\n",
        "warnings.filterwarnings('ignore')\n",
        "import missingno as msno"
      ],
      "execution_count": null,
      "outputs": []
    },
    {
      "cell_type": "code",
      "source": [
        "# linking drive for dataset \n",
        "from google.colab import drive\n",
        "drive.mount('/content/drive')"
      ],
      "metadata": {
        "colab": {
          "base_uri": "https://localhost:8080/"
        },
        "id": "NAGJmzLkM5U1",
        "outputId": "1a2d825b-2b9c-4e6e-9e27-3f99dbbeb3e1"
      },
      "execution_count": null,
      "outputs": [
        {
          "output_type": "stream",
          "name": "stdout",
          "text": [
            "Drive already mounted at /content/drive; to attempt to forcibly remount, call drive.mount(\"/content/drive\", force_remount=True).\n"
          ]
        }
      ]
    },
    {
      "cell_type": "code",
      "source": [
        "# importing dataset\n",
        "path = '/content/drive/MyDrive/EDA/Hotel Bookings.csv'\n",
        "df = pd.read_csv(path)\n"
      ],
      "metadata": {
        "id": "iRM1bLTmM6B5"
      },
      "execution_count": null,
      "outputs": []
    },
    {
      "cell_type": "code",
      "source": [
        "# top 3 rows of the dataset\n",
        "df.head(3)"
      ],
      "metadata": {
        "colab": {
          "base_uri": "https://localhost:8080/",
          "height": 289
        },
        "id": "AYSy56woNRSo",
        "outputId": "fe670570-bdfe-440b-8773-08ef8edd2e52"
      },
      "execution_count": null,
      "outputs": [
        {
          "output_type": "execute_result",
          "data": {
            "text/plain": [
              "          hotel  is_canceled  lead_time  arrival_date_year arrival_date_month  \\\n",
              "0  Resort Hotel            0        342               2015               July   \n",
              "1  Resort Hotel            0        737               2015               July   \n",
              "2  Resort Hotel            0          7               2015               July   \n",
              "\n",
              "   arrival_date_week_number  arrival_date_day_of_month  \\\n",
              "0                        27                          1   \n",
              "1                        27                          1   \n",
              "2                        27                          1   \n",
              "\n",
              "   stays_in_weekend_nights  stays_in_week_nights  adults  ...  deposit_type  \\\n",
              "0                        0                     0       2  ...    No Deposit   \n",
              "1                        0                     0       2  ...    No Deposit   \n",
              "2                        0                     1       1  ...    No Deposit   \n",
              "\n",
              "   agent company days_in_waiting_list customer_type   adr  \\\n",
              "0    NaN     NaN                    0     Transient   0.0   \n",
              "1    NaN     NaN                    0     Transient   0.0   \n",
              "2    NaN     NaN                    0     Transient  75.0   \n",
              "\n",
              "   required_car_parking_spaces  total_of_special_requests  reservation_status  \\\n",
              "0                            0                          0           Check-Out   \n",
              "1                            0                          0           Check-Out   \n",
              "2                            0                          0           Check-Out   \n",
              "\n",
              "  reservation_status_date  \n",
              "0              2015-07-01  \n",
              "1              2015-07-01  \n",
              "2              2015-07-02  \n",
              "\n",
              "[3 rows x 32 columns]"
            ],
            "text/html": [
              "\n",
              "  <div id=\"df-762e69e0-4661-49ae-8972-bde0e7b3e5cb\">\n",
              "    <div class=\"colab-df-container\">\n",
              "      <div>\n",
              "<style scoped>\n",
              "    .dataframe tbody tr th:only-of-type {\n",
              "        vertical-align: middle;\n",
              "    }\n",
              "\n",
              "    .dataframe tbody tr th {\n",
              "        vertical-align: top;\n",
              "    }\n",
              "\n",
              "    .dataframe thead th {\n",
              "        text-align: right;\n",
              "    }\n",
              "</style>\n",
              "<table border=\"1\" class=\"dataframe\">\n",
              "  <thead>\n",
              "    <tr style=\"text-align: right;\">\n",
              "      <th></th>\n",
              "      <th>hotel</th>\n",
              "      <th>is_canceled</th>\n",
              "      <th>lead_time</th>\n",
              "      <th>arrival_date_year</th>\n",
              "      <th>arrival_date_month</th>\n",
              "      <th>arrival_date_week_number</th>\n",
              "      <th>arrival_date_day_of_month</th>\n",
              "      <th>stays_in_weekend_nights</th>\n",
              "      <th>stays_in_week_nights</th>\n",
              "      <th>adults</th>\n",
              "      <th>...</th>\n",
              "      <th>deposit_type</th>\n",
              "      <th>agent</th>\n",
              "      <th>company</th>\n",
              "      <th>days_in_waiting_list</th>\n",
              "      <th>customer_type</th>\n",
              "      <th>adr</th>\n",
              "      <th>required_car_parking_spaces</th>\n",
              "      <th>total_of_special_requests</th>\n",
              "      <th>reservation_status</th>\n",
              "      <th>reservation_status_date</th>\n",
              "    </tr>\n",
              "  </thead>\n",
              "  <tbody>\n",
              "    <tr>\n",
              "      <th>0</th>\n",
              "      <td>Resort Hotel</td>\n",
              "      <td>0</td>\n",
              "      <td>342</td>\n",
              "      <td>2015</td>\n",
              "      <td>July</td>\n",
              "      <td>27</td>\n",
              "      <td>1</td>\n",
              "      <td>0</td>\n",
              "      <td>0</td>\n",
              "      <td>2</td>\n",
              "      <td>...</td>\n",
              "      <td>No Deposit</td>\n",
              "      <td>NaN</td>\n",
              "      <td>NaN</td>\n",
              "      <td>0</td>\n",
              "      <td>Transient</td>\n",
              "      <td>0.0</td>\n",
              "      <td>0</td>\n",
              "      <td>0</td>\n",
              "      <td>Check-Out</td>\n",
              "      <td>2015-07-01</td>\n",
              "    </tr>\n",
              "    <tr>\n",
              "      <th>1</th>\n",
              "      <td>Resort Hotel</td>\n",
              "      <td>0</td>\n",
              "      <td>737</td>\n",
              "      <td>2015</td>\n",
              "      <td>July</td>\n",
              "      <td>27</td>\n",
              "      <td>1</td>\n",
              "      <td>0</td>\n",
              "      <td>0</td>\n",
              "      <td>2</td>\n",
              "      <td>...</td>\n",
              "      <td>No Deposit</td>\n",
              "      <td>NaN</td>\n",
              "      <td>NaN</td>\n",
              "      <td>0</td>\n",
              "      <td>Transient</td>\n",
              "      <td>0.0</td>\n",
              "      <td>0</td>\n",
              "      <td>0</td>\n",
              "      <td>Check-Out</td>\n",
              "      <td>2015-07-01</td>\n",
              "    </tr>\n",
              "    <tr>\n",
              "      <th>2</th>\n",
              "      <td>Resort Hotel</td>\n",
              "      <td>0</td>\n",
              "      <td>7</td>\n",
              "      <td>2015</td>\n",
              "      <td>July</td>\n",
              "      <td>27</td>\n",
              "      <td>1</td>\n",
              "      <td>0</td>\n",
              "      <td>1</td>\n",
              "      <td>1</td>\n",
              "      <td>...</td>\n",
              "      <td>No Deposit</td>\n",
              "      <td>NaN</td>\n",
              "      <td>NaN</td>\n",
              "      <td>0</td>\n",
              "      <td>Transient</td>\n",
              "      <td>75.0</td>\n",
              "      <td>0</td>\n",
              "      <td>0</td>\n",
              "      <td>Check-Out</td>\n",
              "      <td>2015-07-02</td>\n",
              "    </tr>\n",
              "  </tbody>\n",
              "</table>\n",
              "<p>3 rows × 32 columns</p>\n",
              "</div>\n",
              "      <button class=\"colab-df-convert\" onclick=\"convertToInteractive('df-762e69e0-4661-49ae-8972-bde0e7b3e5cb')\"\n",
              "              title=\"Convert this dataframe to an interactive table.\"\n",
              "              style=\"display:none;\">\n",
              "        \n",
              "  <svg xmlns=\"http://www.w3.org/2000/svg\" height=\"24px\"viewBox=\"0 0 24 24\"\n",
              "       width=\"24px\">\n",
              "    <path d=\"M0 0h24v24H0V0z\" fill=\"none\"/>\n",
              "    <path d=\"M18.56 5.44l.94 2.06.94-2.06 2.06-.94-2.06-.94-.94-2.06-.94 2.06-2.06.94zm-11 1L8.5 8.5l.94-2.06 2.06-.94-2.06-.94L8.5 2.5l-.94 2.06-2.06.94zm10 10l.94 2.06.94-2.06 2.06-.94-2.06-.94-.94-2.06-.94 2.06-2.06.94z\"/><path d=\"M17.41 7.96l-1.37-1.37c-.4-.4-.92-.59-1.43-.59-.52 0-1.04.2-1.43.59L10.3 9.45l-7.72 7.72c-.78.78-.78 2.05 0 2.83L4 21.41c.39.39.9.59 1.41.59.51 0 1.02-.2 1.41-.59l7.78-7.78 2.81-2.81c.8-.78.8-2.07 0-2.86zM5.41 20L4 18.59l7.72-7.72 1.47 1.35L5.41 20z\"/>\n",
              "  </svg>\n",
              "      </button>\n",
              "      \n",
              "  <style>\n",
              "    .colab-df-container {\n",
              "      display:flex;\n",
              "      flex-wrap:wrap;\n",
              "      gap: 12px;\n",
              "    }\n",
              "\n",
              "    .colab-df-convert {\n",
              "      background-color: #E8F0FE;\n",
              "      border: none;\n",
              "      border-radius: 50%;\n",
              "      cursor: pointer;\n",
              "      display: none;\n",
              "      fill: #1967D2;\n",
              "      height: 32px;\n",
              "      padding: 0 0 0 0;\n",
              "      width: 32px;\n",
              "    }\n",
              "\n",
              "    .colab-df-convert:hover {\n",
              "      background-color: #E2EBFA;\n",
              "      box-shadow: 0px 1px 2px rgba(60, 64, 67, 0.3), 0px 1px 3px 1px rgba(60, 64, 67, 0.15);\n",
              "      fill: #174EA6;\n",
              "    }\n",
              "\n",
              "    [theme=dark] .colab-df-convert {\n",
              "      background-color: #3B4455;\n",
              "      fill: #D2E3FC;\n",
              "    }\n",
              "\n",
              "    [theme=dark] .colab-df-convert:hover {\n",
              "      background-color: #434B5C;\n",
              "      box-shadow: 0px 1px 3px 1px rgba(0, 0, 0, 0.15);\n",
              "      filter: drop-shadow(0px 1px 2px rgba(0, 0, 0, 0.3));\n",
              "      fill: #FFFFFF;\n",
              "    }\n",
              "  </style>\n",
              "\n",
              "      <script>\n",
              "        const buttonEl =\n",
              "          document.querySelector('#df-762e69e0-4661-49ae-8972-bde0e7b3e5cb button.colab-df-convert');\n",
              "        buttonEl.style.display =\n",
              "          google.colab.kernel.accessAllowed ? 'block' : 'none';\n",
              "\n",
              "        async function convertToInteractive(key) {\n",
              "          const element = document.querySelector('#df-762e69e0-4661-49ae-8972-bde0e7b3e5cb');\n",
              "          const dataTable =\n",
              "            await google.colab.kernel.invokeFunction('convertToInteractive',\n",
              "                                                     [key], {});\n",
              "          if (!dataTable) return;\n",
              "\n",
              "          const docLinkHtml = 'Like what you see? Visit the ' +\n",
              "            '<a target=\"_blank\" href=https://colab.research.google.com/notebooks/data_table.ipynb>data table notebook</a>'\n",
              "            + ' to learn more about interactive tables.';\n",
              "          element.innerHTML = '';\n",
              "          dataTable['output_type'] = 'display_data';\n",
              "          await google.colab.output.renderOutput(dataTable, element);\n",
              "          const docLink = document.createElement('div');\n",
              "          docLink.innerHTML = docLinkHtml;\n",
              "          element.appendChild(docLink);\n",
              "        }\n",
              "      </script>\n",
              "    </div>\n",
              "  </div>\n",
              "  "
            ]
          },
          "metadata": {},
          "execution_count": 17
        }
      ]
    },
    {
      "cell_type": "code",
      "source": [
        "df.T"
      ],
      "metadata": {
        "id": "YadPnbUdNugw",
        "colab": {
          "base_uri": "https://localhost:8080/",
          "height": 1000
        },
        "outputId": "4e3c34f8-8de7-4e17-da0e-4fbaf3a7867c"
      },
      "execution_count": null,
      "outputs": [
        {
          "output_type": "execute_result",
          "data": {
            "text/plain": [
              "                                      0             1             2       \\\n",
              "hotel                           Resort Hotel  Resort Hotel  Resort Hotel   \n",
              "is_canceled                                0             0             0   \n",
              "lead_time                                342           737             7   \n",
              "arrival_date_year                       2015          2015          2015   \n",
              "arrival_date_month                      July          July          July   \n",
              "arrival_date_week_number                  27            27            27   \n",
              "arrival_date_day_of_month                  1             1             1   \n",
              "stays_in_weekend_nights                    0             0             0   \n",
              "stays_in_week_nights                       0             0             1   \n",
              "adults                                     2             2             1   \n",
              "children                                 0.0           0.0           0.0   \n",
              "babies                                     0             0             0   \n",
              "meal                                      BB            BB            BB   \n",
              "country                                  PRT           PRT           GBR   \n",
              "market_segment                        Direct        Direct        Direct   \n",
              "distribution_channel                  Direct        Direct        Direct   \n",
              "is_repeated_guest                          0             0             0   \n",
              "previous_cancellations                     0             0             0   \n",
              "previous_bookings_not_canceled             0             0             0   \n",
              "reserved_room_type                         C             C             A   \n",
              "assigned_room_type                         C             C             C   \n",
              "booking_changes                            3             4             0   \n",
              "deposit_type                      No Deposit    No Deposit    No Deposit   \n",
              "agent                                    NaN           NaN           NaN   \n",
              "company                                  NaN           NaN           NaN   \n",
              "days_in_waiting_list                       0             0             0   \n",
              "customer_type                      Transient     Transient     Transient   \n",
              "adr                                      0.0           0.0          75.0   \n",
              "required_car_parking_spaces                0             0             0   \n",
              "total_of_special_requests                  0             0             0   \n",
              "reservation_status                 Check-Out     Check-Out     Check-Out   \n",
              "reservation_status_date           2015-07-01    2015-07-01    2015-07-02   \n",
              "\n",
              "                                      3             4             5       \\\n",
              "hotel                           Resort Hotel  Resort Hotel  Resort Hotel   \n",
              "is_canceled                                0             0             0   \n",
              "lead_time                                 13            14            14   \n",
              "arrival_date_year                       2015          2015          2015   \n",
              "arrival_date_month                      July          July          July   \n",
              "arrival_date_week_number                  27            27            27   \n",
              "arrival_date_day_of_month                  1             1             1   \n",
              "stays_in_weekend_nights                    0             0             0   \n",
              "stays_in_week_nights                       1             2             2   \n",
              "adults                                     1             2             2   \n",
              "children                                 0.0           0.0           0.0   \n",
              "babies                                     0             0             0   \n",
              "meal                                      BB            BB            BB   \n",
              "country                                  GBR           GBR           GBR   \n",
              "market_segment                     Corporate     Online TA     Online TA   \n",
              "distribution_channel               Corporate         TA/TO         TA/TO   \n",
              "is_repeated_guest                          0             0             0   \n",
              "previous_cancellations                     0             0             0   \n",
              "previous_bookings_not_canceled             0             0             0   \n",
              "reserved_room_type                         A             A             A   \n",
              "assigned_room_type                         A             A             A   \n",
              "booking_changes                            0             0             0   \n",
              "deposit_type                      No Deposit    No Deposit    No Deposit   \n",
              "agent                                  304.0         240.0         240.0   \n",
              "company                                  NaN           NaN           NaN   \n",
              "days_in_waiting_list                       0             0             0   \n",
              "customer_type                      Transient     Transient     Transient   \n",
              "adr                                     75.0          98.0          98.0   \n",
              "required_car_parking_spaces                0             0             0   \n",
              "total_of_special_requests                  0             1             1   \n",
              "reservation_status                 Check-Out     Check-Out     Check-Out   \n",
              "reservation_status_date           2015-07-02    2015-07-03    2015-07-03   \n",
              "\n",
              "                                      6             7             8       \\\n",
              "hotel                           Resort Hotel  Resort Hotel  Resort Hotel   \n",
              "is_canceled                                0             0             1   \n",
              "lead_time                                  0             9            85   \n",
              "arrival_date_year                       2015          2015          2015   \n",
              "arrival_date_month                      July          July          July   \n",
              "arrival_date_week_number                  27            27            27   \n",
              "arrival_date_day_of_month                  1             1             1   \n",
              "stays_in_weekend_nights                    0             0             0   \n",
              "stays_in_week_nights                       2             2             3   \n",
              "adults                                     2             2             2   \n",
              "children                                 0.0           0.0           0.0   \n",
              "babies                                     0             0             0   \n",
              "meal                                      BB            FB            BB   \n",
              "country                                  PRT           PRT           PRT   \n",
              "market_segment                        Direct        Direct     Online TA   \n",
              "distribution_channel                  Direct        Direct         TA/TO   \n",
              "is_repeated_guest                          0             0             0   \n",
              "previous_cancellations                     0             0             0   \n",
              "previous_bookings_not_canceled             0             0             0   \n",
              "reserved_room_type                         C             C             A   \n",
              "assigned_room_type                         C             C             A   \n",
              "booking_changes                            0             0             0   \n",
              "deposit_type                      No Deposit    No Deposit    No Deposit   \n",
              "agent                                    NaN         303.0         240.0   \n",
              "company                                  NaN           NaN           NaN   \n",
              "days_in_waiting_list                       0             0             0   \n",
              "customer_type                      Transient     Transient     Transient   \n",
              "adr                                    107.0         103.0          82.0   \n",
              "required_car_parking_spaces                0             0             0   \n",
              "total_of_special_requests                  0             1             1   \n",
              "reservation_status                 Check-Out     Check-Out      Canceled   \n",
              "reservation_status_date           2015-07-03    2015-07-03    2015-05-06   \n",
              "\n",
              "                                       9       ...      119380      119381  \\\n",
              "hotel                            Resort Hotel  ...  City Hotel  City Hotel   \n",
              "is_canceled                                 1  ...           0           0   \n",
              "lead_time                                  75  ...          44         188   \n",
              "arrival_date_year                        2015  ...        2017        2017   \n",
              "arrival_date_month                       July  ...      August      August   \n",
              "arrival_date_week_number                   27  ...          35          35   \n",
              "arrival_date_day_of_month                   1  ...          31          31   \n",
              "stays_in_weekend_nights                     0  ...           1           2   \n",
              "stays_in_week_nights                        3  ...           3           3   \n",
              "adults                                      2  ...           2           2   \n",
              "children                                  0.0  ...         0.0         0.0   \n",
              "babies                                      0  ...           0           0   \n",
              "meal                                       HB  ...          SC          BB   \n",
              "country                                   PRT  ...         DEU         DEU   \n",
              "market_segment                  Offline TA/TO  ...   Online TA      Direct   \n",
              "distribution_channel                    TA/TO  ...       TA/TO      Direct   \n",
              "is_repeated_guest                           0  ...           0           0   \n",
              "previous_cancellations                      0  ...           0           0   \n",
              "previous_bookings_not_canceled              0  ...           0           0   \n",
              "reserved_room_type                          D  ...           A           A   \n",
              "assigned_room_type                          D  ...           A           A   \n",
              "booking_changes                             0  ...           0           0   \n",
              "deposit_type                       No Deposit  ...  No Deposit  No Deposit   \n",
              "agent                                    15.0  ...         9.0        14.0   \n",
              "company                                   NaN  ...         NaN         NaN   \n",
              "days_in_waiting_list                        0  ...           0           0   \n",
              "customer_type                       Transient  ...   Transient   Transient   \n",
              "adr                                     105.5  ...      140.75        99.0   \n",
              "required_car_parking_spaces                 0  ...           0           0   \n",
              "total_of_special_requests                   0  ...           1           0   \n",
              "reservation_status                   Canceled  ...   Check-Out   Check-Out   \n",
              "reservation_status_date            2015-04-22  ...  2017-09-04  2017-09-05   \n",
              "\n",
              "                                    119382         119383         119384  \\\n",
              "hotel                           City Hotel     City Hotel     City Hotel   \n",
              "is_canceled                              0              0              0   \n",
              "lead_time                              135            164             21   \n",
              "arrival_date_year                     2017           2017           2017   \n",
              "arrival_date_month                  August         August         August   \n",
              "arrival_date_week_number                35             35             35   \n",
              "arrival_date_day_of_month               30             31             30   \n",
              "stays_in_weekend_nights                  2              2              2   \n",
              "stays_in_week_nights                     4              4              5   \n",
              "adults                                   3              2              2   \n",
              "children                               0.0            0.0            0.0   \n",
              "babies                                   0              0              0   \n",
              "meal                                    BB             BB             BB   \n",
              "country                                JPN            DEU            BEL   \n",
              "market_segment                   Online TA  Offline TA/TO  Offline TA/TO   \n",
              "distribution_channel                 TA/TO          TA/TO          TA/TO   \n",
              "is_repeated_guest                        0              0              0   \n",
              "previous_cancellations                   0              0              0   \n",
              "previous_bookings_not_canceled           0              0              0   \n",
              "reserved_room_type                       G              A              A   \n",
              "assigned_room_type                       G              A              A   \n",
              "booking_changes                          0              0              0   \n",
              "deposit_type                    No Deposit     No Deposit     No Deposit   \n",
              "agent                                  7.0           42.0          394.0   \n",
              "company                                NaN            NaN            NaN   \n",
              "days_in_waiting_list                     0              0              0   \n",
              "customer_type                    Transient      Transient      Transient   \n",
              "adr                                  209.0           87.6          96.14   \n",
              "required_car_parking_spaces              0              0              0   \n",
              "total_of_special_requests                0              0              2   \n",
              "reservation_status               Check-Out      Check-Out      Check-Out   \n",
              "reservation_status_date         2017-09-05     2017-09-06     2017-09-06   \n",
              "\n",
              "                                       119385      119386      119387  \\\n",
              "hotel                              City Hotel  City Hotel  City Hotel   \n",
              "is_canceled                                 0           0           0   \n",
              "lead_time                                  23         102          34   \n",
              "arrival_date_year                        2017        2017        2017   \n",
              "arrival_date_month                     August      August      August   \n",
              "arrival_date_week_number                   35          35          35   \n",
              "arrival_date_day_of_month                  30          31          31   \n",
              "stays_in_weekend_nights                     2           2           2   \n",
              "stays_in_week_nights                        5           5           5   \n",
              "adults                                      2           3           2   \n",
              "children                                  0.0         0.0         0.0   \n",
              "babies                                      0           0           0   \n",
              "meal                                       BB          BB          BB   \n",
              "country                                   BEL         FRA         DEU   \n",
              "market_segment                  Offline TA/TO   Online TA   Online TA   \n",
              "distribution_channel                    TA/TO       TA/TO       TA/TO   \n",
              "is_repeated_guest                           0           0           0   \n",
              "previous_cancellations                      0           0           0   \n",
              "previous_bookings_not_canceled              0           0           0   \n",
              "reserved_room_type                          A           E           D   \n",
              "assigned_room_type                          A           E           D   \n",
              "booking_changes                             0           0           0   \n",
              "deposit_type                       No Deposit  No Deposit  No Deposit   \n",
              "agent                                   394.0         9.0         9.0   \n",
              "company                                   NaN         NaN         NaN   \n",
              "days_in_waiting_list                        0           0           0   \n",
              "customer_type                       Transient   Transient   Transient   \n",
              "adr                                     96.14      225.43      157.71   \n",
              "required_car_parking_spaces                 0           0           0   \n",
              "total_of_special_requests                   0           2           4   \n",
              "reservation_status                  Check-Out   Check-Out   Check-Out   \n",
              "reservation_status_date            2017-09-06  2017-09-07  2017-09-07   \n",
              "\n",
              "                                    119388      119389  \n",
              "hotel                           City Hotel  City Hotel  \n",
              "is_canceled                              0           0  \n",
              "lead_time                              109         205  \n",
              "arrival_date_year                     2017        2017  \n",
              "arrival_date_month                  August      August  \n",
              "arrival_date_week_number                35          35  \n",
              "arrival_date_day_of_month               31          29  \n",
              "stays_in_weekend_nights                  2           2  \n",
              "stays_in_week_nights                     5           7  \n",
              "adults                                   2           2  \n",
              "children                               0.0         0.0  \n",
              "babies                                   0           0  \n",
              "meal                                    BB          HB  \n",
              "country                                GBR         DEU  \n",
              "market_segment                   Online TA   Online TA  \n",
              "distribution_channel                 TA/TO       TA/TO  \n",
              "is_repeated_guest                        0           0  \n",
              "previous_cancellations                   0           0  \n",
              "previous_bookings_not_canceled           0           0  \n",
              "reserved_room_type                       A           A  \n",
              "assigned_room_type                       A           A  \n",
              "booking_changes                          0           0  \n",
              "deposit_type                    No Deposit  No Deposit  \n",
              "agent                                 89.0         9.0  \n",
              "company                                NaN         NaN  \n",
              "days_in_waiting_list                     0           0  \n",
              "customer_type                    Transient   Transient  \n",
              "adr                                  104.4       151.2  \n",
              "required_car_parking_spaces              0           0  \n",
              "total_of_special_requests                0           2  \n",
              "reservation_status               Check-Out   Check-Out  \n",
              "reservation_status_date         2017-09-07  2017-09-07  \n",
              "\n",
              "[32 rows x 119390 columns]"
            ],
            "text/html": [
              "\n",
              "  <div id=\"df-9dc8fd68-c118-44ab-84e1-95654345d818\">\n",
              "    <div class=\"colab-df-container\">\n",
              "      <div>\n",
              "<style scoped>\n",
              "    .dataframe tbody tr th:only-of-type {\n",
              "        vertical-align: middle;\n",
              "    }\n",
              "\n",
              "    .dataframe tbody tr th {\n",
              "        vertical-align: top;\n",
              "    }\n",
              "\n",
              "    .dataframe thead th {\n",
              "        text-align: right;\n",
              "    }\n",
              "</style>\n",
              "<table border=\"1\" class=\"dataframe\">\n",
              "  <thead>\n",
              "    <tr style=\"text-align: right;\">\n",
              "      <th></th>\n",
              "      <th>0</th>\n",
              "      <th>1</th>\n",
              "      <th>2</th>\n",
              "      <th>3</th>\n",
              "      <th>4</th>\n",
              "      <th>5</th>\n",
              "      <th>6</th>\n",
              "      <th>7</th>\n",
              "      <th>8</th>\n",
              "      <th>9</th>\n",
              "      <th>...</th>\n",
              "      <th>119380</th>\n",
              "      <th>119381</th>\n",
              "      <th>119382</th>\n",
              "      <th>119383</th>\n",
              "      <th>119384</th>\n",
              "      <th>119385</th>\n",
              "      <th>119386</th>\n",
              "      <th>119387</th>\n",
              "      <th>119388</th>\n",
              "      <th>119389</th>\n",
              "    </tr>\n",
              "  </thead>\n",
              "  <tbody>\n",
              "    <tr>\n",
              "      <th>hotel</th>\n",
              "      <td>Resort Hotel</td>\n",
              "      <td>Resort Hotel</td>\n",
              "      <td>Resort Hotel</td>\n",
              "      <td>Resort Hotel</td>\n",
              "      <td>Resort Hotel</td>\n",
              "      <td>Resort Hotel</td>\n",
              "      <td>Resort Hotel</td>\n",
              "      <td>Resort Hotel</td>\n",
              "      <td>Resort Hotel</td>\n",
              "      <td>Resort Hotel</td>\n",
              "      <td>...</td>\n",
              "      <td>City Hotel</td>\n",
              "      <td>City Hotel</td>\n",
              "      <td>City Hotel</td>\n",
              "      <td>City Hotel</td>\n",
              "      <td>City Hotel</td>\n",
              "      <td>City Hotel</td>\n",
              "      <td>City Hotel</td>\n",
              "      <td>City Hotel</td>\n",
              "      <td>City Hotel</td>\n",
              "      <td>City Hotel</td>\n",
              "    </tr>\n",
              "    <tr>\n",
              "      <th>is_canceled</th>\n",
              "      <td>0</td>\n",
              "      <td>0</td>\n",
              "      <td>0</td>\n",
              "      <td>0</td>\n",
              "      <td>0</td>\n",
              "      <td>0</td>\n",
              "      <td>0</td>\n",
              "      <td>0</td>\n",
              "      <td>1</td>\n",
              "      <td>1</td>\n",
              "      <td>...</td>\n",
              "      <td>0</td>\n",
              "      <td>0</td>\n",
              "      <td>0</td>\n",
              "      <td>0</td>\n",
              "      <td>0</td>\n",
              "      <td>0</td>\n",
              "      <td>0</td>\n",
              "      <td>0</td>\n",
              "      <td>0</td>\n",
              "      <td>0</td>\n",
              "    </tr>\n",
              "    <tr>\n",
              "      <th>lead_time</th>\n",
              "      <td>342</td>\n",
              "      <td>737</td>\n",
              "      <td>7</td>\n",
              "      <td>13</td>\n",
              "      <td>14</td>\n",
              "      <td>14</td>\n",
              "      <td>0</td>\n",
              "      <td>9</td>\n",
              "      <td>85</td>\n",
              "      <td>75</td>\n",
              "      <td>...</td>\n",
              "      <td>44</td>\n",
              "      <td>188</td>\n",
              "      <td>135</td>\n",
              "      <td>164</td>\n",
              "      <td>21</td>\n",
              "      <td>23</td>\n",
              "      <td>102</td>\n",
              "      <td>34</td>\n",
              "      <td>109</td>\n",
              "      <td>205</td>\n",
              "    </tr>\n",
              "    <tr>\n",
              "      <th>arrival_date_year</th>\n",
              "      <td>2015</td>\n",
              "      <td>2015</td>\n",
              "      <td>2015</td>\n",
              "      <td>2015</td>\n",
              "      <td>2015</td>\n",
              "      <td>2015</td>\n",
              "      <td>2015</td>\n",
              "      <td>2015</td>\n",
              "      <td>2015</td>\n",
              "      <td>2015</td>\n",
              "      <td>...</td>\n",
              "      <td>2017</td>\n",
              "      <td>2017</td>\n",
              "      <td>2017</td>\n",
              "      <td>2017</td>\n",
              "      <td>2017</td>\n",
              "      <td>2017</td>\n",
              "      <td>2017</td>\n",
              "      <td>2017</td>\n",
              "      <td>2017</td>\n",
              "      <td>2017</td>\n",
              "    </tr>\n",
              "    <tr>\n",
              "      <th>arrival_date_month</th>\n",
              "      <td>July</td>\n",
              "      <td>July</td>\n",
              "      <td>July</td>\n",
              "      <td>July</td>\n",
              "      <td>July</td>\n",
              "      <td>July</td>\n",
              "      <td>July</td>\n",
              "      <td>July</td>\n",
              "      <td>July</td>\n",
              "      <td>July</td>\n",
              "      <td>...</td>\n",
              "      <td>August</td>\n",
              "      <td>August</td>\n",
              "      <td>August</td>\n",
              "      <td>August</td>\n",
              "      <td>August</td>\n",
              "      <td>August</td>\n",
              "      <td>August</td>\n",
              "      <td>August</td>\n",
              "      <td>August</td>\n",
              "      <td>August</td>\n",
              "    </tr>\n",
              "    <tr>\n",
              "      <th>arrival_date_week_number</th>\n",
              "      <td>27</td>\n",
              "      <td>27</td>\n",
              "      <td>27</td>\n",
              "      <td>27</td>\n",
              "      <td>27</td>\n",
              "      <td>27</td>\n",
              "      <td>27</td>\n",
              "      <td>27</td>\n",
              "      <td>27</td>\n",
              "      <td>27</td>\n",
              "      <td>...</td>\n",
              "      <td>35</td>\n",
              "      <td>35</td>\n",
              "      <td>35</td>\n",
              "      <td>35</td>\n",
              "      <td>35</td>\n",
              "      <td>35</td>\n",
              "      <td>35</td>\n",
              "      <td>35</td>\n",
              "      <td>35</td>\n",
              "      <td>35</td>\n",
              "    </tr>\n",
              "    <tr>\n",
              "      <th>arrival_date_day_of_month</th>\n",
              "      <td>1</td>\n",
              "      <td>1</td>\n",
              "      <td>1</td>\n",
              "      <td>1</td>\n",
              "      <td>1</td>\n",
              "      <td>1</td>\n",
              "      <td>1</td>\n",
              "      <td>1</td>\n",
              "      <td>1</td>\n",
              "      <td>1</td>\n",
              "      <td>...</td>\n",
              "      <td>31</td>\n",
              "      <td>31</td>\n",
              "      <td>30</td>\n",
              "      <td>31</td>\n",
              "      <td>30</td>\n",
              "      <td>30</td>\n",
              "      <td>31</td>\n",
              "      <td>31</td>\n",
              "      <td>31</td>\n",
              "      <td>29</td>\n",
              "    </tr>\n",
              "    <tr>\n",
              "      <th>stays_in_weekend_nights</th>\n",
              "      <td>0</td>\n",
              "      <td>0</td>\n",
              "      <td>0</td>\n",
              "      <td>0</td>\n",
              "      <td>0</td>\n",
              "      <td>0</td>\n",
              "      <td>0</td>\n",
              "      <td>0</td>\n",
              "      <td>0</td>\n",
              "      <td>0</td>\n",
              "      <td>...</td>\n",
              "      <td>1</td>\n",
              "      <td>2</td>\n",
              "      <td>2</td>\n",
              "      <td>2</td>\n",
              "      <td>2</td>\n",
              "      <td>2</td>\n",
              "      <td>2</td>\n",
              "      <td>2</td>\n",
              "      <td>2</td>\n",
              "      <td>2</td>\n",
              "    </tr>\n",
              "    <tr>\n",
              "      <th>stays_in_week_nights</th>\n",
              "      <td>0</td>\n",
              "      <td>0</td>\n",
              "      <td>1</td>\n",
              "      <td>1</td>\n",
              "      <td>2</td>\n",
              "      <td>2</td>\n",
              "      <td>2</td>\n",
              "      <td>2</td>\n",
              "      <td>3</td>\n",
              "      <td>3</td>\n",
              "      <td>...</td>\n",
              "      <td>3</td>\n",
              "      <td>3</td>\n",
              "      <td>4</td>\n",
              "      <td>4</td>\n",
              "      <td>5</td>\n",
              "      <td>5</td>\n",
              "      <td>5</td>\n",
              "      <td>5</td>\n",
              "      <td>5</td>\n",
              "      <td>7</td>\n",
              "    </tr>\n",
              "    <tr>\n",
              "      <th>adults</th>\n",
              "      <td>2</td>\n",
              "      <td>2</td>\n",
              "      <td>1</td>\n",
              "      <td>1</td>\n",
              "      <td>2</td>\n",
              "      <td>2</td>\n",
              "      <td>2</td>\n",
              "      <td>2</td>\n",
              "      <td>2</td>\n",
              "      <td>2</td>\n",
              "      <td>...</td>\n",
              "      <td>2</td>\n",
              "      <td>2</td>\n",
              "      <td>3</td>\n",
              "      <td>2</td>\n",
              "      <td>2</td>\n",
              "      <td>2</td>\n",
              "      <td>3</td>\n",
              "      <td>2</td>\n",
              "      <td>2</td>\n",
              "      <td>2</td>\n",
              "    </tr>\n",
              "    <tr>\n",
              "      <th>children</th>\n",
              "      <td>0.0</td>\n",
              "      <td>0.0</td>\n",
              "      <td>0.0</td>\n",
              "      <td>0.0</td>\n",
              "      <td>0.0</td>\n",
              "      <td>0.0</td>\n",
              "      <td>0.0</td>\n",
              "      <td>0.0</td>\n",
              "      <td>0.0</td>\n",
              "      <td>0.0</td>\n",
              "      <td>...</td>\n",
              "      <td>0.0</td>\n",
              "      <td>0.0</td>\n",
              "      <td>0.0</td>\n",
              "      <td>0.0</td>\n",
              "      <td>0.0</td>\n",
              "      <td>0.0</td>\n",
              "      <td>0.0</td>\n",
              "      <td>0.0</td>\n",
              "      <td>0.0</td>\n",
              "      <td>0.0</td>\n",
              "    </tr>\n",
              "    <tr>\n",
              "      <th>babies</th>\n",
              "      <td>0</td>\n",
              "      <td>0</td>\n",
              "      <td>0</td>\n",
              "      <td>0</td>\n",
              "      <td>0</td>\n",
              "      <td>0</td>\n",
              "      <td>0</td>\n",
              "      <td>0</td>\n",
              "      <td>0</td>\n",
              "      <td>0</td>\n",
              "      <td>...</td>\n",
              "      <td>0</td>\n",
              "      <td>0</td>\n",
              "      <td>0</td>\n",
              "      <td>0</td>\n",
              "      <td>0</td>\n",
              "      <td>0</td>\n",
              "      <td>0</td>\n",
              "      <td>0</td>\n",
              "      <td>0</td>\n",
              "      <td>0</td>\n",
              "    </tr>\n",
              "    <tr>\n",
              "      <th>meal</th>\n",
              "      <td>BB</td>\n",
              "      <td>BB</td>\n",
              "      <td>BB</td>\n",
              "      <td>BB</td>\n",
              "      <td>BB</td>\n",
              "      <td>BB</td>\n",
              "      <td>BB</td>\n",
              "      <td>FB</td>\n",
              "      <td>BB</td>\n",
              "      <td>HB</td>\n",
              "      <td>...</td>\n",
              "      <td>SC</td>\n",
              "      <td>BB</td>\n",
              "      <td>BB</td>\n",
              "      <td>BB</td>\n",
              "      <td>BB</td>\n",
              "      <td>BB</td>\n",
              "      <td>BB</td>\n",
              "      <td>BB</td>\n",
              "      <td>BB</td>\n",
              "      <td>HB</td>\n",
              "    </tr>\n",
              "    <tr>\n",
              "      <th>country</th>\n",
              "      <td>PRT</td>\n",
              "      <td>PRT</td>\n",
              "      <td>GBR</td>\n",
              "      <td>GBR</td>\n",
              "      <td>GBR</td>\n",
              "      <td>GBR</td>\n",
              "      <td>PRT</td>\n",
              "      <td>PRT</td>\n",
              "      <td>PRT</td>\n",
              "      <td>PRT</td>\n",
              "      <td>...</td>\n",
              "      <td>DEU</td>\n",
              "      <td>DEU</td>\n",
              "      <td>JPN</td>\n",
              "      <td>DEU</td>\n",
              "      <td>BEL</td>\n",
              "      <td>BEL</td>\n",
              "      <td>FRA</td>\n",
              "      <td>DEU</td>\n",
              "      <td>GBR</td>\n",
              "      <td>DEU</td>\n",
              "    </tr>\n",
              "    <tr>\n",
              "      <th>market_segment</th>\n",
              "      <td>Direct</td>\n",
              "      <td>Direct</td>\n",
              "      <td>Direct</td>\n",
              "      <td>Corporate</td>\n",
              "      <td>Online TA</td>\n",
              "      <td>Online TA</td>\n",
              "      <td>Direct</td>\n",
              "      <td>Direct</td>\n",
              "      <td>Online TA</td>\n",
              "      <td>Offline TA/TO</td>\n",
              "      <td>...</td>\n",
              "      <td>Online TA</td>\n",
              "      <td>Direct</td>\n",
              "      <td>Online TA</td>\n",
              "      <td>Offline TA/TO</td>\n",
              "      <td>Offline TA/TO</td>\n",
              "      <td>Offline TA/TO</td>\n",
              "      <td>Online TA</td>\n",
              "      <td>Online TA</td>\n",
              "      <td>Online TA</td>\n",
              "      <td>Online TA</td>\n",
              "    </tr>\n",
              "    <tr>\n",
              "      <th>distribution_channel</th>\n",
              "      <td>Direct</td>\n",
              "      <td>Direct</td>\n",
              "      <td>Direct</td>\n",
              "      <td>Corporate</td>\n",
              "      <td>TA/TO</td>\n",
              "      <td>TA/TO</td>\n",
              "      <td>Direct</td>\n",
              "      <td>Direct</td>\n",
              "      <td>TA/TO</td>\n",
              "      <td>TA/TO</td>\n",
              "      <td>...</td>\n",
              "      <td>TA/TO</td>\n",
              "      <td>Direct</td>\n",
              "      <td>TA/TO</td>\n",
              "      <td>TA/TO</td>\n",
              "      <td>TA/TO</td>\n",
              "      <td>TA/TO</td>\n",
              "      <td>TA/TO</td>\n",
              "      <td>TA/TO</td>\n",
              "      <td>TA/TO</td>\n",
              "      <td>TA/TO</td>\n",
              "    </tr>\n",
              "    <tr>\n",
              "      <th>is_repeated_guest</th>\n",
              "      <td>0</td>\n",
              "      <td>0</td>\n",
              "      <td>0</td>\n",
              "      <td>0</td>\n",
              "      <td>0</td>\n",
              "      <td>0</td>\n",
              "      <td>0</td>\n",
              "      <td>0</td>\n",
              "      <td>0</td>\n",
              "      <td>0</td>\n",
              "      <td>...</td>\n",
              "      <td>0</td>\n",
              "      <td>0</td>\n",
              "      <td>0</td>\n",
              "      <td>0</td>\n",
              "      <td>0</td>\n",
              "      <td>0</td>\n",
              "      <td>0</td>\n",
              "      <td>0</td>\n",
              "      <td>0</td>\n",
              "      <td>0</td>\n",
              "    </tr>\n",
              "    <tr>\n",
              "      <th>previous_cancellations</th>\n",
              "      <td>0</td>\n",
              "      <td>0</td>\n",
              "      <td>0</td>\n",
              "      <td>0</td>\n",
              "      <td>0</td>\n",
              "      <td>0</td>\n",
              "      <td>0</td>\n",
              "      <td>0</td>\n",
              "      <td>0</td>\n",
              "      <td>0</td>\n",
              "      <td>...</td>\n",
              "      <td>0</td>\n",
              "      <td>0</td>\n",
              "      <td>0</td>\n",
              "      <td>0</td>\n",
              "      <td>0</td>\n",
              "      <td>0</td>\n",
              "      <td>0</td>\n",
              "      <td>0</td>\n",
              "      <td>0</td>\n",
              "      <td>0</td>\n",
              "    </tr>\n",
              "    <tr>\n",
              "      <th>previous_bookings_not_canceled</th>\n",
              "      <td>0</td>\n",
              "      <td>0</td>\n",
              "      <td>0</td>\n",
              "      <td>0</td>\n",
              "      <td>0</td>\n",
              "      <td>0</td>\n",
              "      <td>0</td>\n",
              "      <td>0</td>\n",
              "      <td>0</td>\n",
              "      <td>0</td>\n",
              "      <td>...</td>\n",
              "      <td>0</td>\n",
              "      <td>0</td>\n",
              "      <td>0</td>\n",
              "      <td>0</td>\n",
              "      <td>0</td>\n",
              "      <td>0</td>\n",
              "      <td>0</td>\n",
              "      <td>0</td>\n",
              "      <td>0</td>\n",
              "      <td>0</td>\n",
              "    </tr>\n",
              "    <tr>\n",
              "      <th>reserved_room_type</th>\n",
              "      <td>C</td>\n",
              "      <td>C</td>\n",
              "      <td>A</td>\n",
              "      <td>A</td>\n",
              "      <td>A</td>\n",
              "      <td>A</td>\n",
              "      <td>C</td>\n",
              "      <td>C</td>\n",
              "      <td>A</td>\n",
              "      <td>D</td>\n",
              "      <td>...</td>\n",
              "      <td>A</td>\n",
              "      <td>A</td>\n",
              "      <td>G</td>\n",
              "      <td>A</td>\n",
              "      <td>A</td>\n",
              "      <td>A</td>\n",
              "      <td>E</td>\n",
              "      <td>D</td>\n",
              "      <td>A</td>\n",
              "      <td>A</td>\n",
              "    </tr>\n",
              "    <tr>\n",
              "      <th>assigned_room_type</th>\n",
              "      <td>C</td>\n",
              "      <td>C</td>\n",
              "      <td>C</td>\n",
              "      <td>A</td>\n",
              "      <td>A</td>\n",
              "      <td>A</td>\n",
              "      <td>C</td>\n",
              "      <td>C</td>\n",
              "      <td>A</td>\n",
              "      <td>D</td>\n",
              "      <td>...</td>\n",
              "      <td>A</td>\n",
              "      <td>A</td>\n",
              "      <td>G</td>\n",
              "      <td>A</td>\n",
              "      <td>A</td>\n",
              "      <td>A</td>\n",
              "      <td>E</td>\n",
              "      <td>D</td>\n",
              "      <td>A</td>\n",
              "      <td>A</td>\n",
              "    </tr>\n",
              "    <tr>\n",
              "      <th>booking_changes</th>\n",
              "      <td>3</td>\n",
              "      <td>4</td>\n",
              "      <td>0</td>\n",
              "      <td>0</td>\n",
              "      <td>0</td>\n",
              "      <td>0</td>\n",
              "      <td>0</td>\n",
              "      <td>0</td>\n",
              "      <td>0</td>\n",
              "      <td>0</td>\n",
              "      <td>...</td>\n",
              "      <td>0</td>\n",
              "      <td>0</td>\n",
              "      <td>0</td>\n",
              "      <td>0</td>\n",
              "      <td>0</td>\n",
              "      <td>0</td>\n",
              "      <td>0</td>\n",
              "      <td>0</td>\n",
              "      <td>0</td>\n",
              "      <td>0</td>\n",
              "    </tr>\n",
              "    <tr>\n",
              "      <th>deposit_type</th>\n",
              "      <td>No Deposit</td>\n",
              "      <td>No Deposit</td>\n",
              "      <td>No Deposit</td>\n",
              "      <td>No Deposit</td>\n",
              "      <td>No Deposit</td>\n",
              "      <td>No Deposit</td>\n",
              "      <td>No Deposit</td>\n",
              "      <td>No Deposit</td>\n",
              "      <td>No Deposit</td>\n",
              "      <td>No Deposit</td>\n",
              "      <td>...</td>\n",
              "      <td>No Deposit</td>\n",
              "      <td>No Deposit</td>\n",
              "      <td>No Deposit</td>\n",
              "      <td>No Deposit</td>\n",
              "      <td>No Deposit</td>\n",
              "      <td>No Deposit</td>\n",
              "      <td>No Deposit</td>\n",
              "      <td>No Deposit</td>\n",
              "      <td>No Deposit</td>\n",
              "      <td>No Deposit</td>\n",
              "    </tr>\n",
              "    <tr>\n",
              "      <th>agent</th>\n",
              "      <td>NaN</td>\n",
              "      <td>NaN</td>\n",
              "      <td>NaN</td>\n",
              "      <td>304.0</td>\n",
              "      <td>240.0</td>\n",
              "      <td>240.0</td>\n",
              "      <td>NaN</td>\n",
              "      <td>303.0</td>\n",
              "      <td>240.0</td>\n",
              "      <td>15.0</td>\n",
              "      <td>...</td>\n",
              "      <td>9.0</td>\n",
              "      <td>14.0</td>\n",
              "      <td>7.0</td>\n",
              "      <td>42.0</td>\n",
              "      <td>394.0</td>\n",
              "      <td>394.0</td>\n",
              "      <td>9.0</td>\n",
              "      <td>9.0</td>\n",
              "      <td>89.0</td>\n",
              "      <td>9.0</td>\n",
              "    </tr>\n",
              "    <tr>\n",
              "      <th>company</th>\n",
              "      <td>NaN</td>\n",
              "      <td>NaN</td>\n",
              "      <td>NaN</td>\n",
              "      <td>NaN</td>\n",
              "      <td>NaN</td>\n",
              "      <td>NaN</td>\n",
              "      <td>NaN</td>\n",
              "      <td>NaN</td>\n",
              "      <td>NaN</td>\n",
              "      <td>NaN</td>\n",
              "      <td>...</td>\n",
              "      <td>NaN</td>\n",
              "      <td>NaN</td>\n",
              "      <td>NaN</td>\n",
              "      <td>NaN</td>\n",
              "      <td>NaN</td>\n",
              "      <td>NaN</td>\n",
              "      <td>NaN</td>\n",
              "      <td>NaN</td>\n",
              "      <td>NaN</td>\n",
              "      <td>NaN</td>\n",
              "    </tr>\n",
              "    <tr>\n",
              "      <th>days_in_waiting_list</th>\n",
              "      <td>0</td>\n",
              "      <td>0</td>\n",
              "      <td>0</td>\n",
              "      <td>0</td>\n",
              "      <td>0</td>\n",
              "      <td>0</td>\n",
              "      <td>0</td>\n",
              "      <td>0</td>\n",
              "      <td>0</td>\n",
              "      <td>0</td>\n",
              "      <td>...</td>\n",
              "      <td>0</td>\n",
              "      <td>0</td>\n",
              "      <td>0</td>\n",
              "      <td>0</td>\n",
              "      <td>0</td>\n",
              "      <td>0</td>\n",
              "      <td>0</td>\n",
              "      <td>0</td>\n",
              "      <td>0</td>\n",
              "      <td>0</td>\n",
              "    </tr>\n",
              "    <tr>\n",
              "      <th>customer_type</th>\n",
              "      <td>Transient</td>\n",
              "      <td>Transient</td>\n",
              "      <td>Transient</td>\n",
              "      <td>Transient</td>\n",
              "      <td>Transient</td>\n",
              "      <td>Transient</td>\n",
              "      <td>Transient</td>\n",
              "      <td>Transient</td>\n",
              "      <td>Transient</td>\n",
              "      <td>Transient</td>\n",
              "      <td>...</td>\n",
              "      <td>Transient</td>\n",
              "      <td>Transient</td>\n",
              "      <td>Transient</td>\n",
              "      <td>Transient</td>\n",
              "      <td>Transient</td>\n",
              "      <td>Transient</td>\n",
              "      <td>Transient</td>\n",
              "      <td>Transient</td>\n",
              "      <td>Transient</td>\n",
              "      <td>Transient</td>\n",
              "    </tr>\n",
              "    <tr>\n",
              "      <th>adr</th>\n",
              "      <td>0.0</td>\n",
              "      <td>0.0</td>\n",
              "      <td>75.0</td>\n",
              "      <td>75.0</td>\n",
              "      <td>98.0</td>\n",
              "      <td>98.0</td>\n",
              "      <td>107.0</td>\n",
              "      <td>103.0</td>\n",
              "      <td>82.0</td>\n",
              "      <td>105.5</td>\n",
              "      <td>...</td>\n",
              "      <td>140.75</td>\n",
              "      <td>99.0</td>\n",
              "      <td>209.0</td>\n",
              "      <td>87.6</td>\n",
              "      <td>96.14</td>\n",
              "      <td>96.14</td>\n",
              "      <td>225.43</td>\n",
              "      <td>157.71</td>\n",
              "      <td>104.4</td>\n",
              "      <td>151.2</td>\n",
              "    </tr>\n",
              "    <tr>\n",
              "      <th>required_car_parking_spaces</th>\n",
              "      <td>0</td>\n",
              "      <td>0</td>\n",
              "      <td>0</td>\n",
              "      <td>0</td>\n",
              "      <td>0</td>\n",
              "      <td>0</td>\n",
              "      <td>0</td>\n",
              "      <td>0</td>\n",
              "      <td>0</td>\n",
              "      <td>0</td>\n",
              "      <td>...</td>\n",
              "      <td>0</td>\n",
              "      <td>0</td>\n",
              "      <td>0</td>\n",
              "      <td>0</td>\n",
              "      <td>0</td>\n",
              "      <td>0</td>\n",
              "      <td>0</td>\n",
              "      <td>0</td>\n",
              "      <td>0</td>\n",
              "      <td>0</td>\n",
              "    </tr>\n",
              "    <tr>\n",
              "      <th>total_of_special_requests</th>\n",
              "      <td>0</td>\n",
              "      <td>0</td>\n",
              "      <td>0</td>\n",
              "      <td>0</td>\n",
              "      <td>1</td>\n",
              "      <td>1</td>\n",
              "      <td>0</td>\n",
              "      <td>1</td>\n",
              "      <td>1</td>\n",
              "      <td>0</td>\n",
              "      <td>...</td>\n",
              "      <td>1</td>\n",
              "      <td>0</td>\n",
              "      <td>0</td>\n",
              "      <td>0</td>\n",
              "      <td>2</td>\n",
              "      <td>0</td>\n",
              "      <td>2</td>\n",
              "      <td>4</td>\n",
              "      <td>0</td>\n",
              "      <td>2</td>\n",
              "    </tr>\n",
              "    <tr>\n",
              "      <th>reservation_status</th>\n",
              "      <td>Check-Out</td>\n",
              "      <td>Check-Out</td>\n",
              "      <td>Check-Out</td>\n",
              "      <td>Check-Out</td>\n",
              "      <td>Check-Out</td>\n",
              "      <td>Check-Out</td>\n",
              "      <td>Check-Out</td>\n",
              "      <td>Check-Out</td>\n",
              "      <td>Canceled</td>\n",
              "      <td>Canceled</td>\n",
              "      <td>...</td>\n",
              "      <td>Check-Out</td>\n",
              "      <td>Check-Out</td>\n",
              "      <td>Check-Out</td>\n",
              "      <td>Check-Out</td>\n",
              "      <td>Check-Out</td>\n",
              "      <td>Check-Out</td>\n",
              "      <td>Check-Out</td>\n",
              "      <td>Check-Out</td>\n",
              "      <td>Check-Out</td>\n",
              "      <td>Check-Out</td>\n",
              "    </tr>\n",
              "    <tr>\n",
              "      <th>reservation_status_date</th>\n",
              "      <td>2015-07-01</td>\n",
              "      <td>2015-07-01</td>\n",
              "      <td>2015-07-02</td>\n",
              "      <td>2015-07-02</td>\n",
              "      <td>2015-07-03</td>\n",
              "      <td>2015-07-03</td>\n",
              "      <td>2015-07-03</td>\n",
              "      <td>2015-07-03</td>\n",
              "      <td>2015-05-06</td>\n",
              "      <td>2015-04-22</td>\n",
              "      <td>...</td>\n",
              "      <td>2017-09-04</td>\n",
              "      <td>2017-09-05</td>\n",
              "      <td>2017-09-05</td>\n",
              "      <td>2017-09-06</td>\n",
              "      <td>2017-09-06</td>\n",
              "      <td>2017-09-06</td>\n",
              "      <td>2017-09-07</td>\n",
              "      <td>2017-09-07</td>\n",
              "      <td>2017-09-07</td>\n",
              "      <td>2017-09-07</td>\n",
              "    </tr>\n",
              "  </tbody>\n",
              "</table>\n",
              "<p>32 rows × 119390 columns</p>\n",
              "</div>\n",
              "      <button class=\"colab-df-convert\" onclick=\"convertToInteractive('df-9dc8fd68-c118-44ab-84e1-95654345d818')\"\n",
              "              title=\"Convert this dataframe to an interactive table.\"\n",
              "              style=\"display:none;\">\n",
              "        \n",
              "  <svg xmlns=\"http://www.w3.org/2000/svg\" height=\"24px\"viewBox=\"0 0 24 24\"\n",
              "       width=\"24px\">\n",
              "    <path d=\"M0 0h24v24H0V0z\" fill=\"none\"/>\n",
              "    <path d=\"M18.56 5.44l.94 2.06.94-2.06 2.06-.94-2.06-.94-.94-2.06-.94 2.06-2.06.94zm-11 1L8.5 8.5l.94-2.06 2.06-.94-2.06-.94L8.5 2.5l-.94 2.06-2.06.94zm10 10l.94 2.06.94-2.06 2.06-.94-2.06-.94-.94-2.06-.94 2.06-2.06.94z\"/><path d=\"M17.41 7.96l-1.37-1.37c-.4-.4-.92-.59-1.43-.59-.52 0-1.04.2-1.43.59L10.3 9.45l-7.72 7.72c-.78.78-.78 2.05 0 2.83L4 21.41c.39.39.9.59 1.41.59.51 0 1.02-.2 1.41-.59l7.78-7.78 2.81-2.81c.8-.78.8-2.07 0-2.86zM5.41 20L4 18.59l7.72-7.72 1.47 1.35L5.41 20z\"/>\n",
              "  </svg>\n",
              "      </button>\n",
              "      \n",
              "  <style>\n",
              "    .colab-df-container {\n",
              "      display:flex;\n",
              "      flex-wrap:wrap;\n",
              "      gap: 12px;\n",
              "    }\n",
              "\n",
              "    .colab-df-convert {\n",
              "      background-color: #E8F0FE;\n",
              "      border: none;\n",
              "      border-radius: 50%;\n",
              "      cursor: pointer;\n",
              "      display: none;\n",
              "      fill: #1967D2;\n",
              "      height: 32px;\n",
              "      padding: 0 0 0 0;\n",
              "      width: 32px;\n",
              "    }\n",
              "\n",
              "    .colab-df-convert:hover {\n",
              "      background-color: #E2EBFA;\n",
              "      box-shadow: 0px 1px 2px rgba(60, 64, 67, 0.3), 0px 1px 3px 1px rgba(60, 64, 67, 0.15);\n",
              "      fill: #174EA6;\n",
              "    }\n",
              "\n",
              "    [theme=dark] .colab-df-convert {\n",
              "      background-color: #3B4455;\n",
              "      fill: #D2E3FC;\n",
              "    }\n",
              "\n",
              "    [theme=dark] .colab-df-convert:hover {\n",
              "      background-color: #434B5C;\n",
              "      box-shadow: 0px 1px 3px 1px rgba(0, 0, 0, 0.15);\n",
              "      filter: drop-shadow(0px 1px 2px rgba(0, 0, 0, 0.3));\n",
              "      fill: #FFFFFF;\n",
              "    }\n",
              "  </style>\n",
              "\n",
              "      <script>\n",
              "        const buttonEl =\n",
              "          document.querySelector('#df-9dc8fd68-c118-44ab-84e1-95654345d818 button.colab-df-convert');\n",
              "        buttonEl.style.display =\n",
              "          google.colab.kernel.accessAllowed ? 'block' : 'none';\n",
              "\n",
              "        async function convertToInteractive(key) {\n",
              "          const element = document.querySelector('#df-9dc8fd68-c118-44ab-84e1-95654345d818');\n",
              "          const dataTable =\n",
              "            await google.colab.kernel.invokeFunction('convertToInteractive',\n",
              "                                                     [key], {});\n",
              "          if (!dataTable) return;\n",
              "\n",
              "          const docLinkHtml = 'Like what you see? Visit the ' +\n",
              "            '<a target=\"_blank\" href=https://colab.research.google.com/notebooks/data_table.ipynb>data table notebook</a>'\n",
              "            + ' to learn more about interactive tables.';\n",
              "          element.innerHTML = '';\n",
              "          dataTable['output_type'] = 'display_data';\n",
              "          await google.colab.output.renderOutput(dataTable, element);\n",
              "          const docLink = document.createElement('div');\n",
              "          docLink.innerHTML = docLinkHtml;\n",
              "          element.appendChild(docLink);\n",
              "        }\n",
              "      </script>\n",
              "    </div>\n",
              "  </div>\n",
              "  "
            ]
          },
          "metadata": {},
          "execution_count": 18
        }
      ]
    },
    {
      "cell_type": "code",
      "source": [
        "# columns and row count \n",
        "df.shape"
      ],
      "metadata": {
        "colab": {
          "base_uri": "https://localhost:8080/"
        },
        "id": "vBO1aawMj5fE",
        "outputId": "e2049584-dc01-4e2f-c0f4-796ba51bff42"
      },
      "execution_count": null,
      "outputs": [
        {
          "output_type": "execute_result",
          "data": {
            "text/plain": [
              "(119390, 32)"
            ]
          },
          "metadata": {},
          "execution_count": 19
        }
      ]
    },
    {
      "cell_type": "code",
      "source": [
        "# columns names \n",
        "df.columns"
      ],
      "metadata": {
        "colab": {
          "base_uri": "https://localhost:8080/"
        },
        "id": "WqUriGpui4f7",
        "outputId": "79238ac8-4125-4207-af84-ef9fe8e7743a"
      },
      "execution_count": null,
      "outputs": [
        {
          "output_type": "execute_result",
          "data": {
            "text/plain": [
              "Index(['hotel', 'is_canceled', 'lead_time', 'arrival_date_year',\n",
              "       'arrival_date_month', 'arrival_date_week_number',\n",
              "       'arrival_date_day_of_month', 'stays_in_weekend_nights',\n",
              "       'stays_in_week_nights', 'adults', 'children', 'babies', 'meal',\n",
              "       'country', 'market_segment', 'distribution_channel',\n",
              "       'is_repeated_guest', 'previous_cancellations',\n",
              "       'previous_bookings_not_canceled', 'reserved_room_type',\n",
              "       'assigned_room_type', 'booking_changes', 'deposit_type', 'agent',\n",
              "       'company', 'days_in_waiting_list', 'customer_type', 'adr',\n",
              "       'required_car_parking_spaces', 'total_of_special_requests',\n",
              "       'reservation_status', 'reservation_status_date'],\n",
              "      dtype='object')"
            ]
          },
          "metadata": {},
          "execution_count": 20
        }
      ]
    },
    {
      "cell_type": "code",
      "source": [
        "# concise summary of a DataFrame\n",
        "df.info()"
      ],
      "metadata": {
        "colab": {
          "base_uri": "https://localhost:8080/"
        },
        "id": "jEEfQGDJkb3N",
        "outputId": "4f734e87-a78d-4eb5-b208-fe992ad9d277"
      },
      "execution_count": null,
      "outputs": [
        {
          "output_type": "stream",
          "name": "stdout",
          "text": [
            "<class 'pandas.core.frame.DataFrame'>\n",
            "RangeIndex: 119390 entries, 0 to 119389\n",
            "Data columns (total 32 columns):\n",
            " #   Column                          Non-Null Count   Dtype  \n",
            "---  ------                          --------------   -----  \n",
            " 0   hotel                           119390 non-null  object \n",
            " 1   is_canceled                     119390 non-null  int64  \n",
            " 2   lead_time                       119390 non-null  int64  \n",
            " 3   arrival_date_year               119390 non-null  int64  \n",
            " 4   arrival_date_month              119390 non-null  object \n",
            " 5   arrival_date_week_number        119390 non-null  int64  \n",
            " 6   arrival_date_day_of_month       119390 non-null  int64  \n",
            " 7   stays_in_weekend_nights         119390 non-null  int64  \n",
            " 8   stays_in_week_nights            119390 non-null  int64  \n",
            " 9   adults                          119390 non-null  int64  \n",
            " 10  children                        119386 non-null  float64\n",
            " 11  babies                          119390 non-null  int64  \n",
            " 12  meal                            119390 non-null  object \n",
            " 13  country                         118902 non-null  object \n",
            " 14  market_segment                  119390 non-null  object \n",
            " 15  distribution_channel            119390 non-null  object \n",
            " 16  is_repeated_guest               119390 non-null  int64  \n",
            " 17  previous_cancellations          119390 non-null  int64  \n",
            " 18  previous_bookings_not_canceled  119390 non-null  int64  \n",
            " 19  reserved_room_type              119390 non-null  object \n",
            " 20  assigned_room_type              119390 non-null  object \n",
            " 21  booking_changes                 119390 non-null  int64  \n",
            " 22  deposit_type                    119390 non-null  object \n",
            " 23  agent                           103050 non-null  float64\n",
            " 24  company                         6797 non-null    float64\n",
            " 25  days_in_waiting_list            119390 non-null  int64  \n",
            " 26  customer_type                   119390 non-null  object \n",
            " 27  adr                             119390 non-null  float64\n",
            " 28  required_car_parking_spaces     119390 non-null  int64  \n",
            " 29  total_of_special_requests       119390 non-null  int64  \n",
            " 30  reservation_status              119390 non-null  object \n",
            " 31  reservation_status_date         119390 non-null  object \n",
            "dtypes: float64(4), int64(16), object(12)\n",
            "memory usage: 29.1+ MB\n"
          ]
        }
      ]
    },
    {
      "cell_type": "code",
      "source": [
        "# statistics information of numerical columns from the DataFrame\n",
        "df.describe()"
      ],
      "metadata": {
        "colab": {
          "base_uri": "https://localhost:8080/",
          "height": 364
        },
        "id": "lkp6kGIxlCto",
        "outputId": "e5874e97-dc23-4d09-d28e-ff45083737a6"
      },
      "execution_count": null,
      "outputs": [
        {
          "output_type": "execute_result",
          "data": {
            "text/plain": [
              "         is_canceled      lead_time  arrival_date_year  \\\n",
              "count  119390.000000  119390.000000      119390.000000   \n",
              "mean        0.370416     104.011416        2016.156554   \n",
              "std         0.482918     106.863097           0.707476   \n",
              "min         0.000000       0.000000        2015.000000   \n",
              "25%         0.000000      18.000000        2016.000000   \n",
              "50%         0.000000      69.000000        2016.000000   \n",
              "75%         1.000000     160.000000        2017.000000   \n",
              "max         1.000000     737.000000        2017.000000   \n",
              "\n",
              "       arrival_date_week_number  arrival_date_day_of_month  \\\n",
              "count             119390.000000              119390.000000   \n",
              "mean                  27.165173                  15.798241   \n",
              "std                   13.605138                   8.780829   \n",
              "min                    1.000000                   1.000000   \n",
              "25%                   16.000000                   8.000000   \n",
              "50%                   28.000000                  16.000000   \n",
              "75%                   38.000000                  23.000000   \n",
              "max                   53.000000                  31.000000   \n",
              "\n",
              "       stays_in_weekend_nights  stays_in_week_nights         adults  \\\n",
              "count            119390.000000         119390.000000  119390.000000   \n",
              "mean                  0.927599              2.500302       1.856403   \n",
              "std                   0.998613              1.908286       0.579261   \n",
              "min                   0.000000              0.000000       0.000000   \n",
              "25%                   0.000000              1.000000       2.000000   \n",
              "50%                   1.000000              2.000000       2.000000   \n",
              "75%                   2.000000              3.000000       2.000000   \n",
              "max                  19.000000             50.000000      55.000000   \n",
              "\n",
              "            children         babies  is_repeated_guest  \\\n",
              "count  119386.000000  119390.000000      119390.000000   \n",
              "mean        0.103890       0.007949           0.031912   \n",
              "std         0.398561       0.097436           0.175767   \n",
              "min         0.000000       0.000000           0.000000   \n",
              "25%         0.000000       0.000000           0.000000   \n",
              "50%         0.000000       0.000000           0.000000   \n",
              "75%         0.000000       0.000000           0.000000   \n",
              "max        10.000000      10.000000           1.000000   \n",
              "\n",
              "       previous_cancellations  previous_bookings_not_canceled  \\\n",
              "count           119390.000000                   119390.000000   \n",
              "mean                 0.087118                        0.137097   \n",
              "std                  0.844336                        1.497437   \n",
              "min                  0.000000                        0.000000   \n",
              "25%                  0.000000                        0.000000   \n",
              "50%                  0.000000                        0.000000   \n",
              "75%                  0.000000                        0.000000   \n",
              "max                 26.000000                       72.000000   \n",
              "\n",
              "       booking_changes          agent      company  days_in_waiting_list  \\\n",
              "count    119390.000000  103050.000000  6797.000000         119390.000000   \n",
              "mean          0.221124      86.693382   189.266735              2.321149   \n",
              "std           0.652306     110.774548   131.655015             17.594721   \n",
              "min           0.000000       1.000000     6.000000              0.000000   \n",
              "25%           0.000000       9.000000    62.000000              0.000000   \n",
              "50%           0.000000      14.000000   179.000000              0.000000   \n",
              "75%           0.000000     229.000000   270.000000              0.000000   \n",
              "max          21.000000     535.000000   543.000000            391.000000   \n",
              "\n",
              "                 adr  required_car_parking_spaces  total_of_special_requests  \n",
              "count  119390.000000                119390.000000              119390.000000  \n",
              "mean      101.831122                     0.062518                   0.571363  \n",
              "std        50.535790                     0.245291                   0.792798  \n",
              "min        -6.380000                     0.000000                   0.000000  \n",
              "25%        69.290000                     0.000000                   0.000000  \n",
              "50%        94.575000                     0.000000                   0.000000  \n",
              "75%       126.000000                     0.000000                   1.000000  \n",
              "max      5400.000000                     8.000000                   5.000000  "
            ],
            "text/html": [
              "\n",
              "  <div id=\"df-0df32548-4418-470b-93fd-1bcf368d95fb\">\n",
              "    <div class=\"colab-df-container\">\n",
              "      <div>\n",
              "<style scoped>\n",
              "    .dataframe tbody tr th:only-of-type {\n",
              "        vertical-align: middle;\n",
              "    }\n",
              "\n",
              "    .dataframe tbody tr th {\n",
              "        vertical-align: top;\n",
              "    }\n",
              "\n",
              "    .dataframe thead th {\n",
              "        text-align: right;\n",
              "    }\n",
              "</style>\n",
              "<table border=\"1\" class=\"dataframe\">\n",
              "  <thead>\n",
              "    <tr style=\"text-align: right;\">\n",
              "      <th></th>\n",
              "      <th>is_canceled</th>\n",
              "      <th>lead_time</th>\n",
              "      <th>arrival_date_year</th>\n",
              "      <th>arrival_date_week_number</th>\n",
              "      <th>arrival_date_day_of_month</th>\n",
              "      <th>stays_in_weekend_nights</th>\n",
              "      <th>stays_in_week_nights</th>\n",
              "      <th>adults</th>\n",
              "      <th>children</th>\n",
              "      <th>babies</th>\n",
              "      <th>is_repeated_guest</th>\n",
              "      <th>previous_cancellations</th>\n",
              "      <th>previous_bookings_not_canceled</th>\n",
              "      <th>booking_changes</th>\n",
              "      <th>agent</th>\n",
              "      <th>company</th>\n",
              "      <th>days_in_waiting_list</th>\n",
              "      <th>adr</th>\n",
              "      <th>required_car_parking_spaces</th>\n",
              "      <th>total_of_special_requests</th>\n",
              "    </tr>\n",
              "  </thead>\n",
              "  <tbody>\n",
              "    <tr>\n",
              "      <th>count</th>\n",
              "      <td>119390.000000</td>\n",
              "      <td>119390.000000</td>\n",
              "      <td>119390.000000</td>\n",
              "      <td>119390.000000</td>\n",
              "      <td>119390.000000</td>\n",
              "      <td>119390.000000</td>\n",
              "      <td>119390.000000</td>\n",
              "      <td>119390.000000</td>\n",
              "      <td>119386.000000</td>\n",
              "      <td>119390.000000</td>\n",
              "      <td>119390.000000</td>\n",
              "      <td>119390.000000</td>\n",
              "      <td>119390.000000</td>\n",
              "      <td>119390.000000</td>\n",
              "      <td>103050.000000</td>\n",
              "      <td>6797.000000</td>\n",
              "      <td>119390.000000</td>\n",
              "      <td>119390.000000</td>\n",
              "      <td>119390.000000</td>\n",
              "      <td>119390.000000</td>\n",
              "    </tr>\n",
              "    <tr>\n",
              "      <th>mean</th>\n",
              "      <td>0.370416</td>\n",
              "      <td>104.011416</td>\n",
              "      <td>2016.156554</td>\n",
              "      <td>27.165173</td>\n",
              "      <td>15.798241</td>\n",
              "      <td>0.927599</td>\n",
              "      <td>2.500302</td>\n",
              "      <td>1.856403</td>\n",
              "      <td>0.103890</td>\n",
              "      <td>0.007949</td>\n",
              "      <td>0.031912</td>\n",
              "      <td>0.087118</td>\n",
              "      <td>0.137097</td>\n",
              "      <td>0.221124</td>\n",
              "      <td>86.693382</td>\n",
              "      <td>189.266735</td>\n",
              "      <td>2.321149</td>\n",
              "      <td>101.831122</td>\n",
              "      <td>0.062518</td>\n",
              "      <td>0.571363</td>\n",
              "    </tr>\n",
              "    <tr>\n",
              "      <th>std</th>\n",
              "      <td>0.482918</td>\n",
              "      <td>106.863097</td>\n",
              "      <td>0.707476</td>\n",
              "      <td>13.605138</td>\n",
              "      <td>8.780829</td>\n",
              "      <td>0.998613</td>\n",
              "      <td>1.908286</td>\n",
              "      <td>0.579261</td>\n",
              "      <td>0.398561</td>\n",
              "      <td>0.097436</td>\n",
              "      <td>0.175767</td>\n",
              "      <td>0.844336</td>\n",
              "      <td>1.497437</td>\n",
              "      <td>0.652306</td>\n",
              "      <td>110.774548</td>\n",
              "      <td>131.655015</td>\n",
              "      <td>17.594721</td>\n",
              "      <td>50.535790</td>\n",
              "      <td>0.245291</td>\n",
              "      <td>0.792798</td>\n",
              "    </tr>\n",
              "    <tr>\n",
              "      <th>min</th>\n",
              "      <td>0.000000</td>\n",
              "      <td>0.000000</td>\n",
              "      <td>2015.000000</td>\n",
              "      <td>1.000000</td>\n",
              "      <td>1.000000</td>\n",
              "      <td>0.000000</td>\n",
              "      <td>0.000000</td>\n",
              "      <td>0.000000</td>\n",
              "      <td>0.000000</td>\n",
              "      <td>0.000000</td>\n",
              "      <td>0.000000</td>\n",
              "      <td>0.000000</td>\n",
              "      <td>0.000000</td>\n",
              "      <td>0.000000</td>\n",
              "      <td>1.000000</td>\n",
              "      <td>6.000000</td>\n",
              "      <td>0.000000</td>\n",
              "      <td>-6.380000</td>\n",
              "      <td>0.000000</td>\n",
              "      <td>0.000000</td>\n",
              "    </tr>\n",
              "    <tr>\n",
              "      <th>25%</th>\n",
              "      <td>0.000000</td>\n",
              "      <td>18.000000</td>\n",
              "      <td>2016.000000</td>\n",
              "      <td>16.000000</td>\n",
              "      <td>8.000000</td>\n",
              "      <td>0.000000</td>\n",
              "      <td>1.000000</td>\n",
              "      <td>2.000000</td>\n",
              "      <td>0.000000</td>\n",
              "      <td>0.000000</td>\n",
              "      <td>0.000000</td>\n",
              "      <td>0.000000</td>\n",
              "      <td>0.000000</td>\n",
              "      <td>0.000000</td>\n",
              "      <td>9.000000</td>\n",
              "      <td>62.000000</td>\n",
              "      <td>0.000000</td>\n",
              "      <td>69.290000</td>\n",
              "      <td>0.000000</td>\n",
              "      <td>0.000000</td>\n",
              "    </tr>\n",
              "    <tr>\n",
              "      <th>50%</th>\n",
              "      <td>0.000000</td>\n",
              "      <td>69.000000</td>\n",
              "      <td>2016.000000</td>\n",
              "      <td>28.000000</td>\n",
              "      <td>16.000000</td>\n",
              "      <td>1.000000</td>\n",
              "      <td>2.000000</td>\n",
              "      <td>2.000000</td>\n",
              "      <td>0.000000</td>\n",
              "      <td>0.000000</td>\n",
              "      <td>0.000000</td>\n",
              "      <td>0.000000</td>\n",
              "      <td>0.000000</td>\n",
              "      <td>0.000000</td>\n",
              "      <td>14.000000</td>\n",
              "      <td>179.000000</td>\n",
              "      <td>0.000000</td>\n",
              "      <td>94.575000</td>\n",
              "      <td>0.000000</td>\n",
              "      <td>0.000000</td>\n",
              "    </tr>\n",
              "    <tr>\n",
              "      <th>75%</th>\n",
              "      <td>1.000000</td>\n",
              "      <td>160.000000</td>\n",
              "      <td>2017.000000</td>\n",
              "      <td>38.000000</td>\n",
              "      <td>23.000000</td>\n",
              "      <td>2.000000</td>\n",
              "      <td>3.000000</td>\n",
              "      <td>2.000000</td>\n",
              "      <td>0.000000</td>\n",
              "      <td>0.000000</td>\n",
              "      <td>0.000000</td>\n",
              "      <td>0.000000</td>\n",
              "      <td>0.000000</td>\n",
              "      <td>0.000000</td>\n",
              "      <td>229.000000</td>\n",
              "      <td>270.000000</td>\n",
              "      <td>0.000000</td>\n",
              "      <td>126.000000</td>\n",
              "      <td>0.000000</td>\n",
              "      <td>1.000000</td>\n",
              "    </tr>\n",
              "    <tr>\n",
              "      <th>max</th>\n",
              "      <td>1.000000</td>\n",
              "      <td>737.000000</td>\n",
              "      <td>2017.000000</td>\n",
              "      <td>53.000000</td>\n",
              "      <td>31.000000</td>\n",
              "      <td>19.000000</td>\n",
              "      <td>50.000000</td>\n",
              "      <td>55.000000</td>\n",
              "      <td>10.000000</td>\n",
              "      <td>10.000000</td>\n",
              "      <td>1.000000</td>\n",
              "      <td>26.000000</td>\n",
              "      <td>72.000000</td>\n",
              "      <td>21.000000</td>\n",
              "      <td>535.000000</td>\n",
              "      <td>543.000000</td>\n",
              "      <td>391.000000</td>\n",
              "      <td>5400.000000</td>\n",
              "      <td>8.000000</td>\n",
              "      <td>5.000000</td>\n",
              "    </tr>\n",
              "  </tbody>\n",
              "</table>\n",
              "</div>\n",
              "      <button class=\"colab-df-convert\" onclick=\"convertToInteractive('df-0df32548-4418-470b-93fd-1bcf368d95fb')\"\n",
              "              title=\"Convert this dataframe to an interactive table.\"\n",
              "              style=\"display:none;\">\n",
              "        \n",
              "  <svg xmlns=\"http://www.w3.org/2000/svg\" height=\"24px\"viewBox=\"0 0 24 24\"\n",
              "       width=\"24px\">\n",
              "    <path d=\"M0 0h24v24H0V0z\" fill=\"none\"/>\n",
              "    <path d=\"M18.56 5.44l.94 2.06.94-2.06 2.06-.94-2.06-.94-.94-2.06-.94 2.06-2.06.94zm-11 1L8.5 8.5l.94-2.06 2.06-.94-2.06-.94L8.5 2.5l-.94 2.06-2.06.94zm10 10l.94 2.06.94-2.06 2.06-.94-2.06-.94-.94-2.06-.94 2.06-2.06.94z\"/><path d=\"M17.41 7.96l-1.37-1.37c-.4-.4-.92-.59-1.43-.59-.52 0-1.04.2-1.43.59L10.3 9.45l-7.72 7.72c-.78.78-.78 2.05 0 2.83L4 21.41c.39.39.9.59 1.41.59.51 0 1.02-.2 1.41-.59l7.78-7.78 2.81-2.81c.8-.78.8-2.07 0-2.86zM5.41 20L4 18.59l7.72-7.72 1.47 1.35L5.41 20z\"/>\n",
              "  </svg>\n",
              "      </button>\n",
              "      \n",
              "  <style>\n",
              "    .colab-df-container {\n",
              "      display:flex;\n",
              "      flex-wrap:wrap;\n",
              "      gap: 12px;\n",
              "    }\n",
              "\n",
              "    .colab-df-convert {\n",
              "      background-color: #E8F0FE;\n",
              "      border: none;\n",
              "      border-radius: 50%;\n",
              "      cursor: pointer;\n",
              "      display: none;\n",
              "      fill: #1967D2;\n",
              "      height: 32px;\n",
              "      padding: 0 0 0 0;\n",
              "      width: 32px;\n",
              "    }\n",
              "\n",
              "    .colab-df-convert:hover {\n",
              "      background-color: #E2EBFA;\n",
              "      box-shadow: 0px 1px 2px rgba(60, 64, 67, 0.3), 0px 1px 3px 1px rgba(60, 64, 67, 0.15);\n",
              "      fill: #174EA6;\n",
              "    }\n",
              "\n",
              "    [theme=dark] .colab-df-convert {\n",
              "      background-color: #3B4455;\n",
              "      fill: #D2E3FC;\n",
              "    }\n",
              "\n",
              "    [theme=dark] .colab-df-convert:hover {\n",
              "      background-color: #434B5C;\n",
              "      box-shadow: 0px 1px 3px 1px rgba(0, 0, 0, 0.15);\n",
              "      filter: drop-shadow(0px 1px 2px rgba(0, 0, 0, 0.3));\n",
              "      fill: #FFFFFF;\n",
              "    }\n",
              "  </style>\n",
              "\n",
              "      <script>\n",
              "        const buttonEl =\n",
              "          document.querySelector('#df-0df32548-4418-470b-93fd-1bcf368d95fb button.colab-df-convert');\n",
              "        buttonEl.style.display =\n",
              "          google.colab.kernel.accessAllowed ? 'block' : 'none';\n",
              "\n",
              "        async function convertToInteractive(key) {\n",
              "          const element = document.querySelector('#df-0df32548-4418-470b-93fd-1bcf368d95fb');\n",
              "          const dataTable =\n",
              "            await google.colab.kernel.invokeFunction('convertToInteractive',\n",
              "                                                     [key], {});\n",
              "          if (!dataTable) return;\n",
              "\n",
              "          const docLinkHtml = 'Like what you see? Visit the ' +\n",
              "            '<a target=\"_blank\" href=https://colab.research.google.com/notebooks/data_table.ipynb>data table notebook</a>'\n",
              "            + ' to learn more about interactive tables.';\n",
              "          element.innerHTML = '';\n",
              "          dataTable['output_type'] = 'display_data';\n",
              "          await google.colab.output.renderOutput(dataTable, element);\n",
              "          const docLink = document.createElement('div');\n",
              "          docLink.innerHTML = docLinkHtml;\n",
              "          element.appendChild(docLink);\n",
              "        }\n",
              "      </script>\n",
              "    </div>\n",
              "  </div>\n",
              "  "
            ]
          },
          "metadata": {},
          "execution_count": 22
        }
      ]
    },
    {
      "cell_type": "code",
      "source": [
        "# total number of missing value in the dataframe\n",
        "missing_value = sum(pd.to_numeric(df.isnull().sum()))\n",
        "print(missing_value)\n"
      ],
      "metadata": {
        "colab": {
          "base_uri": "https://localhost:8080/"
        },
        "id": "mBVbH4eBhyOm",
        "outputId": "76f97428-5293-47d8-8af0-2d325794f6b6"
      },
      "execution_count": null,
      "outputs": [
        {
          "output_type": "stream",
          "name": "stdout",
          "text": [
            "129425\n"
          ]
        }
      ]
    },
    {
      "cell_type": "code",
      "source": [
        ""
      ],
      "metadata": {
        "id": "MaBz3nsLvWIf"
      },
      "execution_count": null,
      "outputs": []
    },
    {
      "cell_type": "markdown",
      "source": [
        "# **<font color=Blue> Cleaning the Dataframe </font>**"
      ],
      "metadata": {
        "id": "GsmPGv6opuxK"
      }
    },
    {
      "cell_type": "code",
      "source": [
        "# null values for each column\n",
        "df.isnull().sum()"
      ],
      "metadata": {
        "colab": {
          "base_uri": "https://localhost:8080/"
        },
        "id": "igfmrNL4oMLL",
        "outputId": "581eaebd-3919-427e-e7ca-8a54bdb97093"
      },
      "execution_count": null,
      "outputs": [
        {
          "output_type": "execute_result",
          "data": {
            "text/plain": [
              "hotel                                  0\n",
              "is_canceled                            0\n",
              "lead_time                              0\n",
              "arrival_date_year                      0\n",
              "arrival_date_month                     0\n",
              "arrival_date_week_number               0\n",
              "arrival_date_day_of_month              0\n",
              "stays_in_weekend_nights                0\n",
              "stays_in_week_nights                   0\n",
              "adults                                 0\n",
              "children                               4\n",
              "babies                                 0\n",
              "meal                                   0\n",
              "country                              488\n",
              "market_segment                         0\n",
              "distribution_channel                   0\n",
              "is_repeated_guest                      0\n",
              "previous_cancellations                 0\n",
              "previous_bookings_not_canceled         0\n",
              "reserved_room_type                     0\n",
              "assigned_room_type                     0\n",
              "booking_changes                        0\n",
              "deposit_type                           0\n",
              "agent                              16340\n",
              "company                           112593\n",
              "days_in_waiting_list                   0\n",
              "customer_type                          0\n",
              "adr                                    0\n",
              "required_car_parking_spaces            0\n",
              "total_of_special_requests              0\n",
              "reservation_status                     0\n",
              "reservation_status_date                0\n",
              "dtype: int64"
            ]
          },
          "metadata": {},
          "execution_count": 24
        }
      ]
    },
    {
      "cell_type": "code",
      "source": [
        "# columns that containg null values \n",
        "df[df.columns[df.isnull().any()]].isnull().sum()"
      ],
      "metadata": {
        "colab": {
          "base_uri": "https://localhost:8080/"
        },
        "id": "smvXnFeBG9WS",
        "outputId": "f24cec5a-98da-4f00-afdb-9ad90fac906c"
      },
      "execution_count": null,
      "outputs": [
        {
          "output_type": "execute_result",
          "data": {
            "text/plain": [
              "children         4\n",
              "country        488\n",
              "agent        16340\n",
              "company     112593\n",
              "dtype: int64"
            ]
          },
          "metadata": {},
          "execution_count": 25
        }
      ]
    },
    {
      "cell_type": "code",
      "source": [
        "miss_columns = df.isna().any()[lambda x: x].index.tolist()\n",
        "miss_columns = df[miss_columns]\n",
        "miss_columns.head(2)\n"
      ],
      "metadata": {
        "id": "CpApr8hDg6YX",
        "colab": {
          "base_uri": "https://localhost:8080/",
          "height": 112
        },
        "outputId": "fcf952ac-fe69-40a0-9aaa-b9f0ed001dcc"
      },
      "execution_count": null,
      "outputs": [
        {
          "output_type": "execute_result",
          "data": {
            "text/plain": [
              "   children country  agent  company\n",
              "0       0.0     PRT    NaN      NaN\n",
              "1       0.0     PRT    NaN      NaN"
            ],
            "text/html": [
              "\n",
              "  <div id=\"df-4f429225-a5d2-4bd7-91fb-9939f152fbf8\">\n",
              "    <div class=\"colab-df-container\">\n",
              "      <div>\n",
              "<style scoped>\n",
              "    .dataframe tbody tr th:only-of-type {\n",
              "        vertical-align: middle;\n",
              "    }\n",
              "\n",
              "    .dataframe tbody tr th {\n",
              "        vertical-align: top;\n",
              "    }\n",
              "\n",
              "    .dataframe thead th {\n",
              "        text-align: right;\n",
              "    }\n",
              "</style>\n",
              "<table border=\"1\" class=\"dataframe\">\n",
              "  <thead>\n",
              "    <tr style=\"text-align: right;\">\n",
              "      <th></th>\n",
              "      <th>children</th>\n",
              "      <th>country</th>\n",
              "      <th>agent</th>\n",
              "      <th>company</th>\n",
              "    </tr>\n",
              "  </thead>\n",
              "  <tbody>\n",
              "    <tr>\n",
              "      <th>0</th>\n",
              "      <td>0.0</td>\n",
              "      <td>PRT</td>\n",
              "      <td>NaN</td>\n",
              "      <td>NaN</td>\n",
              "    </tr>\n",
              "    <tr>\n",
              "      <th>1</th>\n",
              "      <td>0.0</td>\n",
              "      <td>PRT</td>\n",
              "      <td>NaN</td>\n",
              "      <td>NaN</td>\n",
              "    </tr>\n",
              "  </tbody>\n",
              "</table>\n",
              "</div>\n",
              "      <button class=\"colab-df-convert\" onclick=\"convertToInteractive('df-4f429225-a5d2-4bd7-91fb-9939f152fbf8')\"\n",
              "              title=\"Convert this dataframe to an interactive table.\"\n",
              "              style=\"display:none;\">\n",
              "        \n",
              "  <svg xmlns=\"http://www.w3.org/2000/svg\" height=\"24px\"viewBox=\"0 0 24 24\"\n",
              "       width=\"24px\">\n",
              "    <path d=\"M0 0h24v24H0V0z\" fill=\"none\"/>\n",
              "    <path d=\"M18.56 5.44l.94 2.06.94-2.06 2.06-.94-2.06-.94-.94-2.06-.94 2.06-2.06.94zm-11 1L8.5 8.5l.94-2.06 2.06-.94-2.06-.94L8.5 2.5l-.94 2.06-2.06.94zm10 10l.94 2.06.94-2.06 2.06-.94-2.06-.94-.94-2.06-.94 2.06-2.06.94z\"/><path d=\"M17.41 7.96l-1.37-1.37c-.4-.4-.92-.59-1.43-.59-.52 0-1.04.2-1.43.59L10.3 9.45l-7.72 7.72c-.78.78-.78 2.05 0 2.83L4 21.41c.39.39.9.59 1.41.59.51 0 1.02-.2 1.41-.59l7.78-7.78 2.81-2.81c.8-.78.8-2.07 0-2.86zM5.41 20L4 18.59l7.72-7.72 1.47 1.35L5.41 20z\"/>\n",
              "  </svg>\n",
              "      </button>\n",
              "      \n",
              "  <style>\n",
              "    .colab-df-container {\n",
              "      display:flex;\n",
              "      flex-wrap:wrap;\n",
              "      gap: 12px;\n",
              "    }\n",
              "\n",
              "    .colab-df-convert {\n",
              "      background-color: #E8F0FE;\n",
              "      border: none;\n",
              "      border-radius: 50%;\n",
              "      cursor: pointer;\n",
              "      display: none;\n",
              "      fill: #1967D2;\n",
              "      height: 32px;\n",
              "      padding: 0 0 0 0;\n",
              "      width: 32px;\n",
              "    }\n",
              "\n",
              "    .colab-df-convert:hover {\n",
              "      background-color: #E2EBFA;\n",
              "      box-shadow: 0px 1px 2px rgba(60, 64, 67, 0.3), 0px 1px 3px 1px rgba(60, 64, 67, 0.15);\n",
              "      fill: #174EA6;\n",
              "    }\n",
              "\n",
              "    [theme=dark] .colab-df-convert {\n",
              "      background-color: #3B4455;\n",
              "      fill: #D2E3FC;\n",
              "    }\n",
              "\n",
              "    [theme=dark] .colab-df-convert:hover {\n",
              "      background-color: #434B5C;\n",
              "      box-shadow: 0px 1px 3px 1px rgba(0, 0, 0, 0.15);\n",
              "      filter: drop-shadow(0px 1px 2px rgba(0, 0, 0, 0.3));\n",
              "      fill: #FFFFFF;\n",
              "    }\n",
              "  </style>\n",
              "\n",
              "      <script>\n",
              "        const buttonEl =\n",
              "          document.querySelector('#df-4f429225-a5d2-4bd7-91fb-9939f152fbf8 button.colab-df-convert');\n",
              "        buttonEl.style.display =\n",
              "          google.colab.kernel.accessAllowed ? 'block' : 'none';\n",
              "\n",
              "        async function convertToInteractive(key) {\n",
              "          const element = document.querySelector('#df-4f429225-a5d2-4bd7-91fb-9939f152fbf8');\n",
              "          const dataTable =\n",
              "            await google.colab.kernel.invokeFunction('convertToInteractive',\n",
              "                                                     [key], {});\n",
              "          if (!dataTable) return;\n",
              "\n",
              "          const docLinkHtml = 'Like what you see? Visit the ' +\n",
              "            '<a target=\"_blank\" href=https://colab.research.google.com/notebooks/data_table.ipynb>data table notebook</a>'\n",
              "            + ' to learn more about interactive tables.';\n",
              "          element.innerHTML = '';\n",
              "          dataTable['output_type'] = 'display_data';\n",
              "          await google.colab.output.renderOutput(dataTable, element);\n",
              "          const docLink = document.createElement('div');\n",
              "          docLink.innerHTML = docLinkHtml;\n",
              "          element.appendChild(docLink);\n",
              "        }\n",
              "      </script>\n",
              "    </div>\n",
              "  </div>\n",
              "  "
            ]
          },
          "metadata": {},
          "execution_count": 26
        }
      ]
    },
    {
      "cell_type": "code",
      "source": [
        "#Heatmap of columns which have most of the miising values\n",
        "plt.figure(figsize = (11,5))\n",
        "sns.heatmap(miss_columns.isnull(), cbar=True,cmap=\"Blues_r\")\n",
        "plt.title(\"Heatmap of the miising values\")\n",
        "plt.show()"
      ],
      "metadata": {
        "id": "3rWLU4suhXzV",
        "colab": {
          "base_uri": "https://localhost:8080/",
          "height": 336
        },
        "outputId": "9adc2f94-8d18-45e1-f579-3866788d3010"
      },
      "execution_count": null,
      "outputs": [
        {
          "output_type": "display_data",
          "data": {
            "text/plain": [
              "<Figure size 792x360 with 2 Axes>"
            ],
            "image/png": "[encoded data removed]"
          },
          "metadata": {
            "needs_background": "light"
          }
        }
      ]
    },
    {
      "cell_type": "code",
      "source": [
        "# dropping the columns which have most of the null values \n",
        "df=df.drop(['agent','company'],axis=1)"
      ],
      "metadata": {
        "id": "GOhbUaDj0_g6"
      },
      "execution_count": null,
      "outputs": []
    },
    {
      "cell_type": "code",
      "source": [
        "# filling 0 in null values \n",
        "df = df.fillna(0)\n",
        "# replacing 0 in country columns ( categorical column)\n",
        "df.country = df.country.replace(0, \"undefined\")"
      ],
      "metadata": {
        "id": "N9aEBcwPr9lL"
      },
      "execution_count": null,
      "outputs": []
    },
    {
      "cell_type": "code",
      "source": [
        "# checking columns that containg null values \n",
        "df[df.columns[df.isnull().any()]].isnull().sum()"
      ],
      "metadata": {
        "colab": {
          "base_uri": "https://localhost:8080/"
        },
        "id": "iQdaGzknMkR9",
        "outputId": "3508c6db-ba3a-44ec-dd5e-491eb8d4261d"
      },
      "execution_count": null,
      "outputs": [
        {
          "output_type": "execute_result",
          "data": {
            "text/plain": [
              "Series([], dtype: float64)"
            ]
          },
          "metadata": {},
          "execution_count": 30
        }
      ]
    },
    {
      "cell_type": "markdown",
      "source": [
        "# <font color =Red > As we can see we dont have any null values in our Dataframe \n"
      ],
      "metadata": {
        "id": "qgwpF757MpLf"
      }
    },
    {
      "cell_type": "markdown",
      "source": [
        "# <font color= Green > EXPLORATORY DATA ANALYSIS"
      ],
      "metadata": {
        "id": "wbWJ2gYUhOic"
      }
    },
    {
      "cell_type": "code",
      "source": [
        "# Enlarging the pie chart\n",
        "plt.rcParams['figure.figsize'] = 8,8\n",
        "# Indexing labels. tolist() #will convert the index to list for easy manipulation\n",
        "labels = df['hotel'].value_counts().index.tolist()\n",
        "# Converting value counts to list\n",
        "sizes = df['hotel'].value_counts().tolist()\n",
        "explode = (0, 0.1)\n",
        "colors = ['red', 'lightgreen']\n",
        "plt.pie(sizes, explode=explode, labels=labels, colors=colors, autopct='%1.3f%%',startangle=90, textprops={'fontsize': 15})\n",
        "plt.show()"
      ],
      "metadata": {
        "colab": {
          "base_uri": "https://localhost:8080/",
          "height": 466
        },
        "id": "mWCNB02_0TsP",
        "outputId": "6251ce83-4e1a-41fa-b54b-9dbc5ac5f3cb"
      },
      "execution_count": null,
      "outputs": [
        {
          "output_type": "display_data",
          "data": {
            "text/plain": [
              "<Figure size 576x576 with 1 Axes>"
            ],
            "image/png": "[encoded data removed]"
          },
          "metadata": {}
        }
      ]
    },
    {
      "cell_type": "code",
      "source": [
        "# HOTEL WAS MORE ENGAGING AND IN DEMAND IN 3 YEARS\n",
        "plt.figure(figsize=(11,6))\n",
        "sns.countplot('hotel', data= df, palette=\"bright\")\n",
        "plt.xlabel(\"TYPES OF HOTEL\")\n",
        "plt.ylabel(\"NUMBER OF ARRIVAL IN 3 YEARS\")\n",
        "plt.title(\"Hotel is  more in demand thne resort\")\n",
        "plt.show()"
      ],
      "metadata": {
        "colab": {
          "base_uri": "https://localhost:8080/",
          "height": 404
        },
        "id": "3ArC3kKv3TvO",
        "outputId": "ef9b68c5-442a-4ed3-f019-230d16d2207a"
      },
      "execution_count": null,
      "outputs": [
        {
          "output_type": "display_data",
          "data": {
            "text/plain": [
              "<Figure size 792x432 with 1 Axes>"
            ],
            "image/png": "[encoded data removed]"
          },
          "metadata": {
            "needs_background": "light"
          }
        }
      ]
    },
    {
      "cell_type": "markdown",
      "source": [
        "##<font color =green> -- As we can see from above pie chart more then 66% people stick with city hotel as it is cheaper then resort hotel.</font> "
      ],
      "metadata": {
        "id": "y-40bfjcYK3I"
      }
    },
    {
      "cell_type": "code",
      "source": [
        ""
      ],
      "metadata": {
        "id": "k_fyGN5e0n5g"
      },
      "execution_count": null,
      "outputs": []
    },
    {
      "cell_type": "code",
      "source": [
        "# Enlarging the pie chart\n",
        "plt.rcParams['figure.figsize'] = 8,8\n",
        "# Indexing labels. tolist() #will convert the index to list for easy manipulation\n",
        "labels = df['arrival_date_year'].value_counts().index.tolist()\n",
        "# Converting value counts to list\n",
        "sizes = df['arrival_date_year'].value_counts().tolist()\n",
        "explode = (0, 0.1,0.1)\n",
        "colors = ['red','lightblue', 'lightgreen']\n",
        "plt.pie(sizes, explode=explode, labels=labels, colors=colors, autopct='%1.3f%%',startangle=90, textprops={'fontsize': 15})\n",
        "plt.show()"
      ],
      "metadata": {
        "colab": {
          "base_uri": "https://localhost:8080/",
          "height": 466
        },
        "id": "sfYKeR4W0S5x",
        "outputId": "26f1ec8c-40e7-4d8e-e180-b275908126d7"
      },
      "execution_count": null,
      "outputs": [
        {
          "output_type": "display_data",
          "data": {
            "text/plain": [
              "<Figure size 576x576 with 1 Axes>"
            ],
            "image/png": "[encoded data removed]"
          },
          "metadata": {}
        }
      ]
    },
    {
      "cell_type": "markdown",
      "source": [
        "## <font color =Grenn> As we an see 2016 is the most profitable year"
      ],
      "metadata": {
        "id": "JgmCliQo7N1N"
      }
    },
    {
      "cell_type": "code",
      "source": [
        ""
      ],
      "metadata": {
        "id": "E4WvrAPI1TJH"
      },
      "execution_count": null,
      "outputs": []
    },
    {
      "cell_type": "code",
      "source": [
        "# Profitable year for city and resort hotels\n",
        "plt.figure(figsize=(11,6))\n",
        "sns.countplot('arrival_date_year', hue = 'hotel', data= df, palette=\"colorblind\")\n",
        "plt.xlabel(\"YEAR\")\n",
        "plt.ylabel(\"NUMBER OF GUEST\")\n",
        "plt.title(\"THE MOST PROFITABLE YEAR FOR INDIVIDUALLY HOTEL\")\n",
        "plt.show()\n"
      ],
      "metadata": {
        "id": "Inh8q4iumn6d",
        "colab": {
          "base_uri": "https://localhost:8080/",
          "height": 404
        },
        "outputId": "617a7392-6f65-410e-ce24-d8e942af3a2e"
      },
      "execution_count": null,
      "outputs": [
        {
          "output_type": "display_data",
          "data": {
            "text/plain": [
              "<Figure size 792x432 with 1 Axes>"
            ],
            "image/png": "[encoded data removed]"
          },
          "metadata": {
            "needs_background": "light"
          }
        }
      ]
    },
    {
      "cell_type": "markdown",
      "source": [
        "<font color=red>**--> ALL 3 YEARS CITY HOTEL HAVE MADE MORE PROFIT THAN RESORT HOTEL**\n",
        "\n",
        "<font color=red>**--> 2016 IS THE MOST PROFITABLE FOR BOTH OF THE HOTEL**\n",
        "\n",
        "<font color=red>**--> ALL 3 YEARS CITY HOTEL HAVE MORE NUMBER OF GUEST THAN RESORT HOTEL**\n",
        "</font>"
      ],
      "metadata": {
        "id": "1h_enBQIlqMx"
      }
    },
    {
      "cell_type": "code",
      "source": [
        ""
      ],
      "metadata": {
        "id": "Ti5oiCKfJRbT"
      },
      "execution_count": null,
      "outputs": []
    },
    {
      "cell_type": "code",
      "source": [
        "# cancellattion of booking in 3 years\n",
        "df2 = df.copy() # creating copy of df\n",
        "df2[\"is_canceled\"] = df2.is_canceled.replace([0,1],[\"NO\",\"YES\"])\n",
        "plt.figure(figsize=(11,6))\n",
        "sns.countplot(\"hotel\", hue= \"is_canceled\" , data = df2, palette=\"pastel\")\n",
        "plt.xlabel(\"CANCELLATION\")\n",
        "plt.title(\"NUMBERS OF CANCELLATION IN 3 YEAR\")\n",
        "plt.show()"
      ],
      "metadata": {
        "colab": {
          "base_uri": "https://localhost:8080/",
          "height": 404
        },
        "id": "7TPtJJybsywu",
        "outputId": "62633264-23fd-4ba6-9e3a-e242f038a70f"
      },
      "execution_count": null,
      "outputs": [
        {
          "output_type": "display_data",
          "data": {
            "text/plain": [
              "<Figure size 792x432 with 1 Axes>"
            ],
            "image/png": "[encoded data removed]"
          },
          "metadata": {
            "needs_background": "light"
          }
        }
      ]
    },
    {
      "cell_type": "markdown",
      "source": [
        "**<font color = red>--> NUMBER OF BOOKING CANCELLATION IS MORE THAN 50% OF TOTAL BOOKING**"
      ],
      "metadata": {
        "id": "-QyDwIsGxq-b"
      }
    },
    {
      "cell_type": "code",
      "source": [
        ""
      ],
      "metadata": {
        "id": "zilrT-3bLfTD"
      },
      "execution_count": null,
      "outputs": []
    },
    {
      "cell_type": "code",
      "source": [
        "# CANCELLATION OF BOOKING IN 3 YEARS INDIVIDUALLY\n",
        "x = [\"2015\", \"2016\", \"2017\"]\n",
        "y = []\n",
        "for i in x:\n",
        "  y.append(df[df[\"arrival_date_year\"] == int(i)][df[df[\"arrival_date_year\"] == int(i)][\"is_canceled\"] == 1][\"is_canceled\"].count())\n",
        "plt.figure(figsize=(11,6))\n",
        "plt.bar(x,y, color = sns.color_palette())\n",
        "plt.xlabel(\"YEARS\")\n",
        "plt.ylabel(\"NUMBERS OF CANCELLATION\")\n",
        "plt.title(\"NUMBER OF CANCELLATION IN 3 YEARS INDIVIDUALLY\")\n",
        "plt.show()"
      ],
      "metadata": {
        "colab": {
          "base_uri": "https://localhost:8080/",
          "height": 404
        },
        "id": "bvdtlleRdTUG",
        "outputId": "2e12cb12-1494-4088-94b1-61be111d0782"
      },
      "execution_count": null,
      "outputs": [
        {
          "output_type": "display_data",
          "data": {
            "text/plain": [
              "<Figure size 792x432 with 1 Axes>"
            ],
            "image/png": "[encoded data removed]"
          },
          "metadata": {
            "needs_background": "light"
          }
        }
      ]
    },
    {
      "cell_type": "markdown",
      "source": [
        "<font color = green >**-->2016 HAS THE HIGHEST NUMBERS OF CANCELLATION IN 3 YEARS**"
      ],
      "metadata": {
        "id": "apGTHIZhfFPR"
      }
    },
    {
      "cell_type": "code",
      "source": [
        ""
      ],
      "metadata": {
        "id": "A4RybRSKxFQj"
      },
      "execution_count": null,
      "outputs": []
    },
    {
      "cell_type": "markdown",
      "source": [
        "#<font color= REd> Which significant distribution channel has highest cancellation percentage? </font>"
      ],
      "metadata": {
        "id": "SLOcFZiSvskg"
      }
    },
    {
      "cell_type": "code",
      "source": [
        "group_by_dc = df.groupby('distribution_channel')\n",
        "d1 = pd.DataFrame((group_by_dc['is_canceled'].sum()/group_by_dc.size())*100).drop(index = 'Undefined').rename(columns = {0: 'Cancel_%'})\n",
        "plt.figure(figsize = (10,5))\n",
        "sns.barplot(x = d1.index, y = d1['Cancel_%'])\n",
        "plt.show()"
      ],
      "metadata": {
        "colab": {
          "base_uri": "https://localhost:8080/",
          "height": 335
        },
        "id": "w5PgwNRovlS9",
        "outputId": "64df2e83-c7a8-4251-e50c-516de95cfaa1"
      },
      "execution_count": null,
      "outputs": [
        {
          "output_type": "display_data",
          "data": {
            "text/plain": [
              "<Figure size 720x360 with 1 Axes>"
            ],
            "image/png": "[encoded data removed]"
          },
          "metadata": {
            "needs_background": "light"
          }
        }
      ]
    },
    {
      "cell_type": "markdown",
      "source": [
        "###<font color = Green >TA/TO has highest booking cancellation %. Therefore, a booking via TA/TO is 30% likely to get cancelled.\n",
        "###<font color = Green >Let us see what causes the cancelation of bookings of rooms by customers.\n",
        "###<font color = Green >One question can arise that may be longer waiting period or longer lead time causes the cancellation of bookings, let us check that. </font>"
      ],
      "metadata": {
        "id": "tLhDRFJ5xe1k"
      }
    },
    {
      "cell_type": "code",
      "source": [
        "waiting_bookings = df[df['days_in_waiting_list'] !=0]  # Selecting bookings with non zero waiting time\n",
        "fig, axes = plt.subplots(1, 2, figsize=(18, 8))\n",
        "sns.kdeplot(ax=axes[0],x = 'days_in_waiting_list', hue = 'is_canceled' , data = waiting_bookings)\n",
        "sns.kdeplot(ax = axes[1], x = df['lead_time'], hue = df['is_canceled'])\n",
        "plt.show()"
      ],
      "metadata": {
        "colab": {
          "base_uri": "https://localhost:8080/",
          "height": 498
        },
        "id": "g95n4s6uvz20",
        "outputId": "56981e43-0397-4f8f-9bd3-9b1f7671908a"
      },
      "execution_count": null,
      "outputs": [
        {
          "output_type": "display_data",
          "data": {
            "text/plain": [
              "<Figure size 1296x576 with 2 Axes>"
            ],
            "image/png": "[encoded data removed]"
          },
          "metadata": {
            "needs_background": "light"
          }
        }
      ]
    },
    {
      "cell_type": "markdown",
      "source": [
        "###<font color = Green >We see that most of the bookings that are cancelled have waiting period of less 150 days but also most of bookings that are not cancelled also have waiting period less than 150 days. Hence this shows that waiting period has no effect on cancellation of bookings.\n",
        "###<font color = Green > Also, lead time has no affect on cancellation of bookings, as both curves of cancelation and not cncelation are similar for lead time too."
      ],
      "metadata": {
        "id": "JFl9GTw_yqqG"
      }
    },
    {
      "cell_type": "markdown",
      "source": [
        "###<font color = Blue > Now we will check whether not getting allotted the same room type as demanded is the cause of cancellation fo bookings"
      ],
      "metadata": {
        "id": "gPt8Jj6vy9LC"
      }
    },
    {
      "cell_type": "code",
      "source": [
        "def check_room_allot(x):\n",
        "  if x['reserved_room_type'] != x['assigned_room_type']:\n",
        "    return 1\n",
        "  else:\n",
        "    return 0\n",
        "df['same_room_not_alloted'] = df.apply(lambda x : check_room_allot(x), axis = 1)\n",
        "grp_by_canc = df.groupby('is_canceled')\n",
        "D3 = pd.DataFrame((grp_by_canc['same_room_not_alloted'].sum()/grp_by_canc.size())*100).rename(columns = {0: 'same_room_not_alloted_%'})\n",
        "plt.figure(figsize = (10,7))\n",
        "sns.barplot(x = D3.index, y = D3['same_room_not_alloted_%'])\n",
        "plt.show()"
      ],
      "metadata": {
        "colab": {
          "base_uri": "https://localhost:8080/",
          "height": 443
        },
        "id": "DukTZq4pzCo0",
        "outputId": "40c3f264-a672-4df5-bf37-54a1b905e54d"
      },
      "execution_count": null,
      "outputs": [
        {
          "output_type": "display_data",
          "data": {
            "text/plain": [
              "<Figure size 720x504 with 1 Axes>"
            ],
            "image/png": "[encoded data removed]"
          },
          "metadata": {
            "needs_background": "light"
          }
        }
      ]
    },
    {
      "cell_type": "markdown",
      "source": [
        "###<font color = Green > We see that not getting same room as demanded is not the case of cancellation of rooms. A significant percentage of bookings are not cancelled even after getting different room as demanded."
      ],
      "metadata": {
        "id": "zLIJhhylzjyV"
      }
    },
    {
      "cell_type": "code",
      "source": [
        ""
      ],
      "metadata": {
        "id": "dydYud1Dygnk"
      },
      "execution_count": null,
      "outputs": []
    },
    {
      "cell_type": "code",
      "source": [
        "#arrivals of customer\n",
        "plt.figure(figsize=(15, 8))\n",
        "plt.subplot(1, 2, 1)\n",
        "sns.countplot(x='arrival_date_year',hue='hotel', data=df,palette='Spectral')\n",
        "plt.title(\"Arrivals per year in Both hotels \",fontweight=\"bold\", size=20)\n",
        "plt.subplot(1, 2, 2)\n",
        "sns.countplot(data = df, x = 'arrival_date_month')\n",
        "plt.title('Arrivals per month',fontweight=\"bold\", size=20)\n",
        "plt.subplots_adjust(right=1.7)\n",
        "\n",
        "plt.show()"
      ],
      "metadata": {
        "colab": {
          "base_uri": "https://localhost:8080/",
          "height": 437
        },
        "id": "6MeRbamzQTvK",
        "outputId": "cb21ff4f-e007-4b22-bc71-b23576cf4a82"
      },
      "execution_count": null,
      "outputs": [
        {
          "output_type": "display_data",
          "data": {
            "text/plain": [
              "<Figure size 1080x576 with 2 Axes>"
            ],
            "image/png": "[encoded data removed]"
          },
          "metadata": {
            "needs_background": "light"
          }
        }
      ]
    },
    {
      "cell_type": "markdown",
      "source": [
        "* ### <font color=Blue>We can see most of the bookings were in the year 2016 and bookings were doine in City hotel</font>\n",
        "* ### <font color=Blue>Most bookings were done in the month of May,June, July, August</font>"
      ],
      "metadata": {
        "id": "AYAKPycFSmKf"
      }
    },
    {
      "cell_type": "code",
      "source": [
        "\n"
      ],
      "metadata": {
        "id": "UPFqJMReSwnC"
      },
      "execution_count": null,
      "outputs": []
    },
    {
      "cell_type": "code",
      "source": [
        "plt.figure(figsize= (11,6))\n",
        "\n",
        "x = [\"January\", \"February\", \"March\", \"April\", \"May\", \"June\", \"July\", \"August\", \"September\", \"October\", \"November\", \"December\"]\n",
        "sns.countplot(\"arrival_date_month\", hue=\"arrival_date_year\", data=df, order= x)\n",
        "plt.xticks(rotation = \"vertical\")\n",
        "plt.xlabel(\"MONTHS\")\n",
        "plt.title(\"INDIVIDUAL MONTH GUEST ARRIVED FROM LAST 3 YEARS\")\n",
        "plt.legend(loc=\"upper left\")\n",
        "plt.show()"
      ],
      "metadata": {
        "colab": {
          "base_uri": "https://localhost:8080/",
          "height": 449
        },
        "id": "UFAoI7tlI9OO",
        "outputId": "2221aaab-e87a-472c-ec45-c612bb6be676"
      },
      "execution_count": null,
      "outputs": [
        {
          "output_type": "display_data",
          "data": {
            "text/plain": [
              "<Figure size 792x432 with 1 Axes>"
            ],
            "image/png": "[encoded data removed]"
          },
          "metadata": {
            "needs_background": "light"
          }
        }
      ]
    },
    {
      "cell_type": "markdown",
      "source": [
        "<font color = blue >\n",
        " ONLY JULY AND AUGUST ARE IN ALL 3 YEARS THATS WHY MORE GUEST IS IN AND JULY"
      ],
      "metadata": {
        "id": "k7RnSgIAppAB"
      }
    },
    {
      "cell_type": "code",
      "source": [
        "\n",
        "plt.figure(figsize=(15, 8))\n",
        "plt.subplot(1, 2, 1)\n",
        "sns.countplot(x='stays_in_weekend_nights',hue='hotel', data=df, palette='cool')\n",
        "plt.title(\"Number of stays on weekend nights\",fontweight=\"bold\", size=20)\n",
        "plt.subplot(1, 2, 2)\n",
        "sns.countplot(data = df, x = 'stays_in_weekend_nights', hue='is_canceled', palette='rocket')\n",
        "plt.title('WeekendStay vs Cancelation',fontweight=\"bold\", size=20)\n",
        "plt.subplots_adjust(right=1.7)\n",
        "\n",
        "plt.show()"
      ],
      "metadata": {
        "colab": {
          "base_uri": "https://localhost:8080/",
          "height": 437
        },
        "id": "PBDX1wUwPq6Z",
        "outputId": "909ce7eb-62e1-45c0-a7b3-cd628ef266e0"
      },
      "execution_count": null,
      "outputs": [
        {
          "output_type": "display_data",
          "data": {
            "text/plain": [
              "<Figure size 1080x576 with 2 Axes>"
            ],
            "image/png": "[encoded data removed]"
          },
          "metadata": {
            "needs_background": "light"
          }
        }
      ]
    },
    {
      "cell_type": "markdown",
      "source": [
        "* ### <font color=green>In the first graph we can see that most of the weekend nights were booked in City Hotel</font>\n",
        "* ### <font color=green>Second plot shows most of weekend nights which were booked were not canceled</font>"
      ],
      "metadata": {
        "id": "VdyXLMrPcfD7"
      }
    },
    {
      "cell_type": "code",
      "source": [
        ""
      ],
      "metadata": {
        "id": "z4zDxYvbYyme"
      },
      "execution_count": null,
      "outputs": []
    },
    {
      "cell_type": "code",
      "source": [
        "plt.figure(figsize=(15, 8))\n",
        "plt.subplot(1, 2, 1)\n",
        "sns.countplot(x='stays_in_week_nights',hue='hotel', data=df, palette='rainbow_r')\n",
        "plt.title(\"Number of stays on weekday nights\",fontweight=\"bold\", size=20)\n",
        "plt.subplot(1, 2, 2)\n",
        "sns.countplot(data = df, x = 'stays_in_week_nights', hue='is_canceled', palette='magma_r')\n",
        "plt.title('WeekStay vs Cancelations',fontweight=\"bold\", size=20)\n",
        "plt.subplots_adjust(right=1.7)\n",
        "plt.show()"
      ],
      "metadata": {
        "colab": {
          "base_uri": "https://localhost:8080/",
          "height": 437
        },
        "id": "kh1Gnw9VPsTM",
        "outputId": "f0642294-f0dc-43f0-e02f-49dd3f4ba49d"
      },
      "execution_count": null,
      "outputs": [
        {
          "output_type": "display_data",
          "data": {
            "text/plain": [
              "<Figure size 1080x576 with 2 Axes>"
            ],
            "image/png": "[encoded data removed]"
          },
          "metadata": {
            "needs_background": "light"
          }
        }
      ]
    },
    {
      "cell_type": "markdown",
      "source": [
        "\n",
        "* ### <font color=green>Weekday night stays were more in City Hotel</font>\n",
        "* ### <font color=green>Less cancelations were observed</font>"
      ],
      "metadata": {
        "id": "SfmmdVfzhxdo"
      }
    }
  ]
}